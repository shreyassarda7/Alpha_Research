{
  "nbformat": 4,
  "nbformat_minor": 0,
  "metadata": {
    "colab": {
      "name": "ETH_Multiple_Lin_Regression.ipynb",
      "provenance": [],
      "authorship_tag": "ABX9TyNyg5XprPrPWCIwxOl9Jx7w",
      "include_colab_link": true
    },
    "kernelspec": {
      "name": "python3",
      "display_name": "Python 3"
    },
    "language_info": {
      "name": "python"
    }
  },
  "cells": [
    {
      "cell_type": "markdown",
      "metadata": {
        "id": "view-in-github",
        "colab_type": "text"
      },
      "source": [
        "<a href=\"https://colab.research.google.com/github/shreyassarda7/Alpha_Research/blob/main/ETH_Multiple_Lin_Regression.ipynb\" target=\"_parent\"><img src=\"https://colab.research.google.com/assets/colab-badge.svg\" alt=\"Open In Colab\"/></a>"
      ]
    },
    {
      "cell_type": "code",
      "metadata": {
        "id": "m95xPzQI11_Z"
      },
      "source": [
        "# Description: Predict the price of ETH using ML Model"
      ],
      "execution_count": 69,
      "outputs": []
    },
    {
      "cell_type": "code",
      "metadata": {
        "id": "osgVZAHG2BpU"
      },
      "source": [
        "# Importing libraries\n",
        "import numpy as np\n",
        "import pandas as pd\n",
        "from sklearn.linear_model import LinearRegression\n",
        "from sklearn.model_selection import train_test_split\n",
        "from pandas_datareader import data as web\n",
        "import datetime"
      ],
      "execution_count": 70,
      "outputs": []
    },
    {
      "cell_type": "code",
      "metadata": {
        "colab": {
          "base_uri": "https://localhost:8080/",
          "height": 447
        },
        "id": "UGiVTEqF2byl",
        "outputId": "edbf037a-a585-4f22-e36d-a294179176ae"
      },
      "source": [
        "# Import Data\n",
        "stock = 'ETH-USD'\n",
        "num_days = 500\n",
        "start_date = (datetime.datetime.now() - datetime.timedelta(days = num_days)).strftime(\"%m-%d-%Y\")\n",
        "df = web.DataReader(stock, data_source = 'yahoo', start = start_date)\n",
        "df.dropna(how = 'any', inplace = True)\n",
        "df"
      ],
      "execution_count": 71,
      "outputs": [
        {
          "output_type": "execute_result",
          "data": {
            "text/html": [
              "<div>\n",
              "<style scoped>\n",
              "    .dataframe tbody tr th:only-of-type {\n",
              "        vertical-align: middle;\n",
              "    }\n",
              "\n",
              "    .dataframe tbody tr th {\n",
              "        vertical-align: top;\n",
              "    }\n",
              "\n",
              "    .dataframe thead th {\n",
              "        text-align: right;\n",
              "    }\n",
              "</style>\n",
              "<table border=\"1\" class=\"dataframe\">\n",
              "  <thead>\n",
              "    <tr style=\"text-align: right;\">\n",
              "      <th></th>\n",
              "      <th>High</th>\n",
              "      <th>Low</th>\n",
              "      <th>Open</th>\n",
              "      <th>Close</th>\n",
              "      <th>Volume</th>\n",
              "      <th>Adj Close</th>\n",
              "    </tr>\n",
              "    <tr>\n",
              "      <th>Date</th>\n",
              "      <th></th>\n",
              "      <th></th>\n",
              "      <th></th>\n",
              "      <th></th>\n",
              "      <th></th>\n",
              "      <th></th>\n",
              "    </tr>\n",
              "  </thead>\n",
              "  <tbody>\n",
              "    <tr>\n",
              "      <th>2020-02-06</th>\n",
              "      <td>214.597717</td>\n",
              "      <td>201.904068</td>\n",
              "      <td>204.129700</td>\n",
              "      <td>212.339081</td>\n",
              "      <td>1.642559e+10</td>\n",
              "      <td>212.339081</td>\n",
              "    </tr>\n",
              "    <tr>\n",
              "      <th>2020-02-07</th>\n",
              "      <td>223.140930</td>\n",
              "      <td>212.304199</td>\n",
              "      <td>212.315887</td>\n",
              "      <td>222.726059</td>\n",
              "      <td>1.667344e+10</td>\n",
              "      <td>222.726059</td>\n",
              "    </tr>\n",
              "    <tr>\n",
              "      <th>2020-02-08</th>\n",
              "      <td>226.588089</td>\n",
              "      <td>215.386292</td>\n",
              "      <td>222.510971</td>\n",
              "      <td>223.146515</td>\n",
              "      <td>1.674120e+10</td>\n",
              "      <td>223.146515</td>\n",
              "    </tr>\n",
              "    <tr>\n",
              "      <th>2020-02-09</th>\n",
              "      <td>229.864243</td>\n",
              "      <td>222.982239</td>\n",
              "      <td>222.982239</td>\n",
              "      <td>228.578568</td>\n",
              "      <td>1.503136e+10</td>\n",
              "      <td>228.578568</td>\n",
              "    </tr>\n",
              "    <tr>\n",
              "      <th>2020-02-10</th>\n",
              "      <td>229.184616</td>\n",
              "      <td>218.080048</td>\n",
              "      <td>228.549133</td>\n",
              "      <td>223.522705</td>\n",
              "      <td>1.621001e+10</td>\n",
              "      <td>223.522705</td>\n",
              "    </tr>\n",
              "    <tr>\n",
              "      <th>...</th>\n",
              "      <td>...</td>\n",
              "      <td>...</td>\n",
              "      <td>...</td>\n",
              "      <td>...</td>\n",
              "      <td>...</td>\n",
              "      <td>...</td>\n",
              "    </tr>\n",
              "    <tr>\n",
              "      <th>2021-06-15</th>\n",
              "      <td>2554.628906</td>\n",
              "      <td>2354.350586</td>\n",
              "      <td>2544.864746</td>\n",
              "      <td>2367.663574</td>\n",
              "      <td>2.410193e+10</td>\n",
              "      <td>2367.663574</td>\n",
              "    </tr>\n",
              "    <tr>\n",
              "      <th>2021-06-16</th>\n",
              "      <td>2457.175537</td>\n",
              "      <td>2312.301514</td>\n",
              "      <td>2367.306396</td>\n",
              "      <td>2372.001953</td>\n",
              "      <td>2.187163e+10</td>\n",
              "      <td>2372.001953</td>\n",
              "    </tr>\n",
              "    <tr>\n",
              "      <th>2021-06-17</th>\n",
              "      <td>2377.195068</td>\n",
              "      <td>2147.308350</td>\n",
              "      <td>2374.586914</td>\n",
              "      <td>2231.733154</td>\n",
              "      <td>2.275282e+10</td>\n",
              "      <td>2231.733154</td>\n",
              "    </tr>\n",
              "    <tr>\n",
              "      <th>2021-06-18</th>\n",
              "      <td>2278.415039</td>\n",
              "      <td>2168.885010</td>\n",
              "      <td>2235.159180</td>\n",
              "      <td>2178.499023</td>\n",
              "      <td>1.876585e+10</td>\n",
              "      <td>2178.499023</td>\n",
              "    </tr>\n",
              "    <tr>\n",
              "      <th>2021-06-20</th>\n",
              "      <td>2216.590332</td>\n",
              "      <td>2151.189453</td>\n",
              "      <td>2173.439209</td>\n",
              "      <td>2200.187744</td>\n",
              "      <td>1.814193e+10</td>\n",
              "      <td>2200.187744</td>\n",
              "    </tr>\n",
              "  </tbody>\n",
              "</table>\n",
              "<p>497 rows × 6 columns</p>\n",
              "</div>"
            ],
            "text/plain": [
              "                   High          Low  ...        Volume    Adj Close\n",
              "Date                                  ...                           \n",
              "2020-02-06   214.597717   201.904068  ...  1.642559e+10   212.339081\n",
              "2020-02-07   223.140930   212.304199  ...  1.667344e+10   222.726059\n",
              "2020-02-08   226.588089   215.386292  ...  1.674120e+10   223.146515\n",
              "2020-02-09   229.864243   222.982239  ...  1.503136e+10   228.578568\n",
              "2020-02-10   229.184616   218.080048  ...  1.621001e+10   223.522705\n",
              "...                 ...          ...  ...           ...          ...\n",
              "2021-06-15  2554.628906  2354.350586  ...  2.410193e+10  2367.663574\n",
              "2021-06-16  2457.175537  2312.301514  ...  2.187163e+10  2372.001953\n",
              "2021-06-17  2377.195068  2147.308350  ...  2.275282e+10  2231.733154\n",
              "2021-06-18  2278.415039  2168.885010  ...  1.876585e+10  2178.499023\n",
              "2021-06-20  2216.590332  2151.189453  ...  1.814193e+10  2200.187744\n",
              "\n",
              "[497 rows x 6 columns]"
            ]
          },
          "metadata": {
            "tags": []
          },
          "execution_count": 71
        }
      ]
    },
    {
      "cell_type": "code",
      "metadata": {
        "colab": {
          "base_uri": "https://localhost:8080/",
          "height": 447
        },
        "id": "_W89kpo8HShj",
        "outputId": "54768d57-a732-48dc-d105-767396e815cd"
      },
      "source": [
        "# Create variable to predict stock value in future\n",
        "projection_days = 15\n",
        "# Create prediction column in df\n",
        "df['Prediction'] = df[['Adj Close']].shift(-projection_days)\n",
        "df"
      ],
      "execution_count": 72,
      "outputs": [
        {
          "output_type": "execute_result",
          "data": {
            "text/html": [
              "<div>\n",
              "<style scoped>\n",
              "    .dataframe tbody tr th:only-of-type {\n",
              "        vertical-align: middle;\n",
              "    }\n",
              "\n",
              "    .dataframe tbody tr th {\n",
              "        vertical-align: top;\n",
              "    }\n",
              "\n",
              "    .dataframe thead th {\n",
              "        text-align: right;\n",
              "    }\n",
              "</style>\n",
              "<table border=\"1\" class=\"dataframe\">\n",
              "  <thead>\n",
              "    <tr style=\"text-align: right;\">\n",
              "      <th></th>\n",
              "      <th>High</th>\n",
              "      <th>Low</th>\n",
              "      <th>Open</th>\n",
              "      <th>Close</th>\n",
              "      <th>Volume</th>\n",
              "      <th>Adj Close</th>\n",
              "      <th>Prediction</th>\n",
              "    </tr>\n",
              "    <tr>\n",
              "      <th>Date</th>\n",
              "      <th></th>\n",
              "      <th></th>\n",
              "      <th></th>\n",
              "      <th></th>\n",
              "      <th></th>\n",
              "      <th></th>\n",
              "      <th></th>\n",
              "    </tr>\n",
              "  </thead>\n",
              "  <tbody>\n",
              "    <tr>\n",
              "      <th>2020-02-06</th>\n",
              "      <td>214.597717</td>\n",
              "      <td>201.904068</td>\n",
              "      <td>204.129700</td>\n",
              "      <td>212.339081</td>\n",
              "      <td>1.642559e+10</td>\n",
              "      <td>212.339081</td>\n",
              "      <td>265.600616</td>\n",
              "    </tr>\n",
              "    <tr>\n",
              "      <th>2020-02-07</th>\n",
              "      <td>223.140930</td>\n",
              "      <td>212.304199</td>\n",
              "      <td>212.315887</td>\n",
              "      <td>222.726059</td>\n",
              "      <td>1.667344e+10</td>\n",
              "      <td>222.726059</td>\n",
              "      <td>262.331726</td>\n",
              "    </tr>\n",
              "    <tr>\n",
              "      <th>2020-02-08</th>\n",
              "      <td>226.588089</td>\n",
              "      <td>215.386292</td>\n",
              "      <td>222.510971</td>\n",
              "      <td>223.146515</td>\n",
              "      <td>1.674120e+10</td>\n",
              "      <td>223.146515</td>\n",
              "      <td>273.754150</td>\n",
              "    </tr>\n",
              "    <tr>\n",
              "      <th>2020-02-09</th>\n",
              "      <td>229.864243</td>\n",
              "      <td>222.982239</td>\n",
              "      <td>222.982239</td>\n",
              "      <td>228.578568</td>\n",
              "      <td>1.503136e+10</td>\n",
              "      <td>228.578568</td>\n",
              "      <td>265.216431</td>\n",
              "    </tr>\n",
              "    <tr>\n",
              "      <th>2020-02-10</th>\n",
              "      <td>229.184616</td>\n",
              "      <td>218.080048</td>\n",
              "      <td>228.549133</td>\n",
              "      <td>223.522705</td>\n",
              "      <td>1.621001e+10</td>\n",
              "      <td>223.522705</td>\n",
              "      <td>247.817596</td>\n",
              "    </tr>\n",
              "    <tr>\n",
              "      <th>...</th>\n",
              "      <td>...</td>\n",
              "      <td>...</td>\n",
              "      <td>...</td>\n",
              "      <td>...</td>\n",
              "      <td>...</td>\n",
              "      <td>...</td>\n",
              "      <td>...</td>\n",
              "    </tr>\n",
              "    <tr>\n",
              "      <th>2021-06-15</th>\n",
              "      <td>2554.628906</td>\n",
              "      <td>2354.350586</td>\n",
              "      <td>2544.864746</td>\n",
              "      <td>2367.663574</td>\n",
              "      <td>2.410193e+10</td>\n",
              "      <td>2367.663574</td>\n",
              "      <td>NaN</td>\n",
              "    </tr>\n",
              "    <tr>\n",
              "      <th>2021-06-16</th>\n",
              "      <td>2457.175537</td>\n",
              "      <td>2312.301514</td>\n",
              "      <td>2367.306396</td>\n",
              "      <td>2372.001953</td>\n",
              "      <td>2.187163e+10</td>\n",
              "      <td>2372.001953</td>\n",
              "      <td>NaN</td>\n",
              "    </tr>\n",
              "    <tr>\n",
              "      <th>2021-06-17</th>\n",
              "      <td>2377.195068</td>\n",
              "      <td>2147.308350</td>\n",
              "      <td>2374.586914</td>\n",
              "      <td>2231.733154</td>\n",
              "      <td>2.275282e+10</td>\n",
              "      <td>2231.733154</td>\n",
              "      <td>NaN</td>\n",
              "    </tr>\n",
              "    <tr>\n",
              "      <th>2021-06-18</th>\n",
              "      <td>2278.415039</td>\n",
              "      <td>2168.885010</td>\n",
              "      <td>2235.159180</td>\n",
              "      <td>2178.499023</td>\n",
              "      <td>1.876585e+10</td>\n",
              "      <td>2178.499023</td>\n",
              "      <td>NaN</td>\n",
              "    </tr>\n",
              "    <tr>\n",
              "      <th>2021-06-20</th>\n",
              "      <td>2216.590332</td>\n",
              "      <td>2151.189453</td>\n",
              "      <td>2173.439209</td>\n",
              "      <td>2200.187744</td>\n",
              "      <td>1.814193e+10</td>\n",
              "      <td>2200.187744</td>\n",
              "      <td>NaN</td>\n",
              "    </tr>\n",
              "  </tbody>\n",
              "</table>\n",
              "<p>497 rows × 7 columns</p>\n",
              "</div>"
            ],
            "text/plain": [
              "                   High          Low  ...    Adj Close  Prediction\n",
              "Date                                  ...                         \n",
              "2020-02-06   214.597717   201.904068  ...   212.339081  265.600616\n",
              "2020-02-07   223.140930   212.304199  ...   222.726059  262.331726\n",
              "2020-02-08   226.588089   215.386292  ...   223.146515  273.754150\n",
              "2020-02-09   229.864243   222.982239  ...   228.578568  265.216431\n",
              "2020-02-10   229.184616   218.080048  ...   223.522705  247.817596\n",
              "...                 ...          ...  ...          ...         ...\n",
              "2021-06-15  2554.628906  2354.350586  ...  2367.663574         NaN\n",
              "2021-06-16  2457.175537  2312.301514  ...  2372.001953         NaN\n",
              "2021-06-17  2377.195068  2147.308350  ...  2231.733154         NaN\n",
              "2021-06-18  2278.415039  2168.885010  ...  2178.499023         NaN\n",
              "2021-06-20  2216.590332  2151.189453  ...  2200.187744         NaN\n",
              "\n",
              "[497 rows x 7 columns]"
            ]
          },
          "metadata": {
            "tags": []
          },
          "execution_count": 72
        }
      ]
    },
    {
      "cell_type": "code",
      "metadata": {
        "id": "IRxB7j1MICKe"
      },
      "source": [
        "# Train and test data loading\n",
        "X = np.array(df.iloc[:-projection_days ,[0, 1, 2, 3, 4]])\n",
        "y = np.array(df.iloc[:-projection_days ,[6]])"
      ],
      "execution_count": 73,
      "outputs": []
    },
    {
      "cell_type": "code",
      "metadata": {
        "id": "B5DAjUQYJRVi"
      },
      "source": [
        "# Train Test Split in 85/15 ratio\n",
        "x_train, x_test, y_train, y_test = train_test_split(X, y, test_size = 0.15)"
      ],
      "execution_count": 74,
      "outputs": []
    },
    {
      "cell_type": "code",
      "metadata": {
        "colab": {
          "base_uri": "https://localhost:8080/"
        },
        "id": "2-rlNj5vJuP9",
        "outputId": "2deb66c2-7f2c-40e8-cc89-e182ddf40219"
      },
      "source": [
        "# Create and Train the model\n",
        "Lin_reg = LinearRegression()\n",
        "# Fit the model\n",
        "Lin_reg.fit(x_train, y_train)"
      ],
      "execution_count": 75,
      "outputs": [
        {
          "output_type": "execute_result",
          "data": {
            "text/plain": [
              "LinearRegression(copy_X=True, fit_intercept=True, n_jobs=None, normalize=False)"
            ]
          },
          "metadata": {
            "tags": []
          },
          "execution_count": 75
        }
      ]
    },
    {
      "cell_type": "code",
      "metadata": {
        "colab": {
          "base_uri": "https://localhost:8080/"
        },
        "id": "r0bG_atNKMha",
        "outputId": "f4b29e4c-c268-4e85-b9e4-ed4bda331b79"
      },
      "source": [
        "# Test model\n",
        "Lin_reg_confidence = Lin_reg.score(x_test, y_test)\n",
        "print(\"Linear Regresion Confidence is \" + str(round(Lin_reg_confidence, 2)))"
      ],
      "execution_count": 76,
      "outputs": [
        {
          "output_type": "stream",
          "text": [
            "Linear Regresion Confidence is 0.8\n"
          ],
          "name": "stdout"
        }
      ]
    },
    {
      "cell_type": "code",
      "metadata": {
        "colab": {
          "base_uri": "https://localhost:8080/",
          "height": 558
        },
        "id": "gvZNepuzK6Ja",
        "outputId": "ad705a93-bac1-4944-b111-c892023694a9"
      },
      "source": [
        "# Project the next 'projection_days' values in df['Prediction']\n",
        "df.iloc[-projection_days: ,[6]] = Lin_reg.predict(df.iloc[-projection_days: ,[0, 1, 2, 3, 4]])\n",
        "print(\"Predictions for next 15 days\")\n",
        "df.iloc[-projection_days:,[6]]"
      ],
      "execution_count": 77,
      "outputs": [
        {
          "output_type": "stream",
          "text": [
            "Predictions for next 15 days\n"
          ],
          "name": "stdout"
        },
        {
          "output_type": "execute_result",
          "data": {
            "text/html": [
              "<div>\n",
              "<style scoped>\n",
              "    .dataframe tbody tr th:only-of-type {\n",
              "        vertical-align: middle;\n",
              "    }\n",
              "\n",
              "    .dataframe tbody tr th {\n",
              "        vertical-align: top;\n",
              "    }\n",
              "\n",
              "    .dataframe thead th {\n",
              "        text-align: right;\n",
              "    }\n",
              "</style>\n",
              "<table border=\"1\" class=\"dataframe\">\n",
              "  <thead>\n",
              "    <tr style=\"text-align: right;\">\n",
              "      <th></th>\n",
              "      <th>Prediction</th>\n",
              "    </tr>\n",
              "    <tr>\n",
              "      <th>Date</th>\n",
              "      <th></th>\n",
              "    </tr>\n",
              "  </thead>\n",
              "  <tbody>\n",
              "    <tr>\n",
              "      <th>2021-06-05</th>\n",
              "      <td>2758.669930</td>\n",
              "    </tr>\n",
              "    <tr>\n",
              "      <th>2021-06-06</th>\n",
              "      <td>2497.376032</td>\n",
              "    </tr>\n",
              "    <tr>\n",
              "      <th>2021-06-07</th>\n",
              "      <td>2764.116049</td>\n",
              "    </tr>\n",
              "    <tr>\n",
              "      <th>2021-06-08</th>\n",
              "      <td>2760.669028</td>\n",
              "    </tr>\n",
              "    <tr>\n",
              "      <th>2021-06-09</th>\n",
              "      <td>2561.705194</td>\n",
              "    </tr>\n",
              "    <tr>\n",
              "      <th>2021-06-10</th>\n",
              "      <td>2411.020900</td>\n",
              "    </tr>\n",
              "    <tr>\n",
              "      <th>2021-06-11</th>\n",
              "      <td>2432.643566</td>\n",
              "    </tr>\n",
              "    <tr>\n",
              "      <th>2021-06-12</th>\n",
              "      <td>2555.196400</td>\n",
              "    </tr>\n",
              "    <tr>\n",
              "      <th>2021-06-13</th>\n",
              "      <td>2572.376193</td>\n",
              "    </tr>\n",
              "    <tr>\n",
              "      <th>2021-06-14</th>\n",
              "      <td>2734.526383</td>\n",
              "    </tr>\n",
              "    <tr>\n",
              "      <th>2021-06-15</th>\n",
              "      <td>2411.994822</td>\n",
              "    </tr>\n",
              "    <tr>\n",
              "      <th>2021-06-16</th>\n",
              "      <td>2385.472773</td>\n",
              "    </tr>\n",
              "    <tr>\n",
              "      <th>2021-06-17</th>\n",
              "      <td>2341.143878</td>\n",
              "    </tr>\n",
              "    <tr>\n",
              "      <th>2021-06-18</th>\n",
              "      <td>2193.573993</td>\n",
              "    </tr>\n",
              "    <tr>\n",
              "      <th>2021-06-20</th>\n",
              "      <td>2266.891208</td>\n",
              "    </tr>\n",
              "  </tbody>\n",
              "</table>\n",
              "</div>"
            ],
            "text/plain": [
              "             Prediction\n",
              "Date                   \n",
              "2021-06-05  2758.669930\n",
              "2021-06-06  2497.376032\n",
              "2021-06-07  2764.116049\n",
              "2021-06-08  2760.669028\n",
              "2021-06-09  2561.705194\n",
              "2021-06-10  2411.020900\n",
              "2021-06-11  2432.643566\n",
              "2021-06-12  2555.196400\n",
              "2021-06-13  2572.376193\n",
              "2021-06-14  2734.526383\n",
              "2021-06-15  2411.994822\n",
              "2021-06-16  2385.472773\n",
              "2021-06-17  2341.143878\n",
              "2021-06-18  2193.573993\n",
              "2021-06-20  2266.891208"
            ]
          },
          "metadata": {
            "tags": []
          },
          "execution_count": 77
        }
      ]
    }
  ]
}