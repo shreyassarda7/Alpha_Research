{
  "nbformat": 4,
  "nbformat_minor": 0,
  "metadata": {
    "colab": {
      "name": "candlestick_live_signals.ipynb",
      "provenance": []
    },
    "kernelspec": {
      "name": "python3",
      "display_name": "Python 3"
    },
    "language_info": {
      "name": "python"
    }
  },
  "cells": [
    {
      "cell_type": "code",
      "metadata": {
        "id": "0bMEcDbFupzt",
        "colab": {
          "base_uri": "https://localhost:8080/"
        },
        "outputId": "c89f6ed3-a5c4-4bcc-b21b-b8f5bc321e45"
      },
      "source": [
        "pip install yfinance --upgrade --no-cache-dir"
      ],
      "execution_count": null,
      "outputs": [
        {
          "output_type": "stream",
          "text": [
            "Collecting yfinance\n",
            "  Downloading https://files.pythonhosted.org/packages/79/bd/d64719da8f5367f4d8b16e83507fa1d90942f433f748a4cf3ed7aa515d14/yfinance-0.1.63.tar.gz\n",
            "Requirement already satisfied, skipping upgrade: pandas>=0.24 in /usr/local/lib/python3.7/dist-packages (from yfinance) (1.1.5)\n",
            "Requirement already satisfied, skipping upgrade: numpy>=1.15 in /usr/local/lib/python3.7/dist-packages (from yfinance) (1.19.5)\n",
            "Requirement already satisfied, skipping upgrade: requests>=2.20 in /usr/local/lib/python3.7/dist-packages (from yfinance) (2.23.0)\n",
            "Requirement already satisfied, skipping upgrade: multitasking>=0.0.7 in /usr/local/lib/python3.7/dist-packages (from yfinance) (0.0.9)\n",
            "Collecting lxml>=4.5.1\n",
            "\u001b[?25l  Downloading https://files.pythonhosted.org/packages/30/c0/d0526314971fc661b083ab135747dc68446a3022686da8c16d25fcf6ef07/lxml-4.6.3-cp37-cp37m-manylinux2014_x86_64.whl (6.3MB)\n",
            "\u001b[K     |████████████████████████████████| 6.3MB 4.6MB/s \n",
            "\u001b[?25hRequirement already satisfied, skipping upgrade: python-dateutil>=2.7.3 in /usr/local/lib/python3.7/dist-packages (from pandas>=0.24->yfinance) (2.8.1)\n",
            "Requirement already satisfied, skipping upgrade: pytz>=2017.2 in /usr/local/lib/python3.7/dist-packages (from pandas>=0.24->yfinance) (2018.9)\n",
            "Requirement already satisfied, skipping upgrade: idna<3,>=2.5 in /usr/local/lib/python3.7/dist-packages (from requests>=2.20->yfinance) (2.10)\n",
            "Requirement already satisfied, skipping upgrade: certifi>=2017.4.17 in /usr/local/lib/python3.7/dist-packages (from requests>=2.20->yfinance) (2021.5.30)\n",
            "Requirement already satisfied, skipping upgrade: urllib3!=1.25.0,!=1.25.1,<1.26,>=1.21.1 in /usr/local/lib/python3.7/dist-packages (from requests>=2.20->yfinance) (1.24.3)\n",
            "Requirement already satisfied, skipping upgrade: chardet<4,>=3.0.2 in /usr/local/lib/python3.7/dist-packages (from requests>=2.20->yfinance) (3.0.4)\n",
            "Requirement already satisfied, skipping upgrade: six>=1.5 in /usr/local/lib/python3.7/dist-packages (from python-dateutil>=2.7.3->pandas>=0.24->yfinance) (1.15.0)\n",
            "Building wheels for collected packages: yfinance\n",
            "  Building wheel for yfinance (setup.py) ... \u001b[?25l\u001b[?25hdone\n",
            "  Created wheel for yfinance: filename=yfinance-0.1.63-py2.py3-none-any.whl size=23919 sha256=556e15139f19921711a93713f144a93007d0e280f19a662ce6b0747695450d1f\n",
            "  Stored in directory: /tmp/pip-ephem-wheel-cache-9ahue1gk/wheels/fe/a0/79/b73d4a0c535b421b88fc7b393936b371fabbfeaf979eca4050\n",
            "Successfully built yfinance\n",
            "Installing collected packages: lxml, yfinance\n",
            "  Found existing installation: lxml 4.2.6\n",
            "    Uninstalling lxml-4.2.6:\n",
            "      Successfully uninstalled lxml-4.2.6\n",
            "Successfully installed lxml-4.6.3 yfinance-0.1.63\n"
          ],
          "name": "stdout"
        }
      ]
    },
    {
      "cell_type": "code",
      "metadata": {
        "id": "9GgyFwczsKCR"
      },
      "source": [
        "# Define Bullish Harami Pattern Test\n",
        "def bullish_harami(yest_o, yest_c, tod_o, tod_c):\n",
        "  if yest_o > yest_c and tod_o < tod_c and yest_o > tod_c and yest_c < tod_o:\n",
        "    return True\n",
        "  else:\n",
        "    return False\n",
        "\n",
        "# Define Bearish Engulfing Candle Test\n",
        "def bearish_engulfing(yest_o, yest_c, tod_o, tod_c):\n",
        "  if yest_o > yest_c and tod_o < tod_c and tod_o < yest_c and tod_c > 0.5*(yest_o + yest_c):\n",
        "    return True\n",
        "  else:\n",
        "    return False"
      ],
      "execution_count": null,
      "outputs": []
    },
    {
      "cell_type": "code",
      "metadata": {
        "id": "Z36jwumLsXZE"
      },
      "source": [
        "import yfinance as yf\n",
        "import datetime\n",
        "import pandas as pd\n",
        "import numpy as np\n",
        "from pandas_datareader import data as web"
      ],
      "execution_count": null,
      "outputs": []
    },
    {
      "cell_type": "code",
      "metadata": {
        "id": "g7TVqYFYuPq7"
      },
      "source": [
        "def check(stock, start_date, end_date):\n",
        "  yf.pdr_override()\n",
        "  df = web.get_data_yahoo(stock, data_source='yahoo', start=start_date, end=end_date)\n",
        "\n",
        "  df['tod_o'] = df['Open']\n",
        "  df['tod_c'] = df['Close']\n",
        "  df['yest_o'] = df['Open'].shift(1)\n",
        "  df['yest_c'] = df['Close'].shift(1)\n",
        "\n",
        "  # Add ATR 20 Value to df\n",
        "  df['max_diff'] = pd.Series()\n",
        "  df['h_l'] = df['High'] - df['Low']\n",
        "  df['h_c'] = (df['High'] - df['Close']).abs()\n",
        "  df['l_c'] = (df['Low'] - df['Close']).abs()\n",
        "  df['max_diff'] = df[['h_l', 'h_c', 'l_c']].max(axis = 1)\n",
        "  df['ATR20'] = df['max_diff'].rolling(window = 20).mean()\n",
        "  df['ATR20'] = df['ATR20'].shift(1)\n",
        "  \n",
        "  df = df.iloc[20:,[0, 1, 6, 7, 8, 9, 14]]\n",
        "\n",
        "  df['buy'] = pd.Series()\n",
        "  df['sell'] = pd.Series()\n",
        "\n",
        "  last_pos = 0\n",
        "  buy_pos = 0\n",
        "  last_funds = 100000.0\n",
        "\n",
        "  harami_flag = False\n",
        "  bear_engulf_flag = False\n",
        "  stop_loss = np.nan\n",
        "  target_price = np.nan\n",
        "\n",
        "  for index, row in df.iterrows():\n",
        "    if (harami_flag or bear_engulf_flag) and last_pos == 0:\n",
        "      row['buy'] = row['tod_o']\n",
        "      row['sell'] = np.nan\n",
        "      row['funds'] = last_funds\n",
        "      last_pos = int(last_funds / row['tod_o'])\n",
        "      target_price = row['tod_o'] + 3 * row['ATR20']\n",
        "      stop_loss = row['tod_o'] - 3 * row['ATR20']\n",
        "    elif last_pos > 0 and row['yest_c'] > target_price:\n",
        "      row['buy'] = np.nan\n",
        "      row['sell'] = row['tod_o']\n",
        "      last_funds = last_pos * row['tod_o']\n",
        "      row['funds'] = last_funds\n",
        "      last_pos = 0\n",
        "    elif last_pos > 0 and row['yest_c'] < stop_loss:\n",
        "      row['buy'] = np.nan\n",
        "      row['sell'] = row['tod_o']\n",
        "      last_funds = last_pos * row['tod_o']\n",
        "      row['funds'] = last_funds\n",
        "      last_pos = 0\n",
        "    elif last_pos > 0:\n",
        "      row['buy'] = np.nan\n",
        "      row['sell'] = np.nan\n",
        "      last_funds = last_pos * row['tod_c']\n",
        "      row['funds'] = last_funds\n",
        "    else:\n",
        "      row['buy'] = np.nan\n",
        "      row['sell'] = np.nan\n",
        "      row['funds'] = last_funds\n",
        "\n",
        "    harami_flag = bullish_harami(row['yest_o'],\trow['yest_c'], row['tod_o'],\trow['tod_c'])\n",
        "    bear_engulf_flag = bearish_engulfing(row['yest_o'],\trow['yest_c'], row['tod_o'],\trow['tod_c'])\n",
        "\n",
        "  df = df.dropna(subset = ['buy', 'sell'], how = 'all')\n",
        "\n",
        "  df['company'] = stock\n",
        "  df['target'] = df['buy'] + 3 * df['ATR20']\n",
        "  df['stoploss'] = df['buy'] - 3 * df['ATR20']\n",
        "  print(df.columns)\n",
        "\n",
        "  return df.iloc[:, -5:]"
      ],
      "execution_count": null,
      "outputs": []
    },
    {
      "cell_type": "code",
      "metadata": {
        "colab": {
          "base_uri": "https://localhost:8080/"
        },
        "id": "dB4n0NwBu6oT",
        "outputId": "2f41f439-4a90-4a9a-f694-2509ff4b821a"
      },
      "source": [
        "start_date = (datetime.datetime.now() - datetime.timedelta(days = 50)).strftime(\"%Y-%m-%d\")\n",
        "end_date = (datetime.datetime.now()).strftime(\"%Y-%m-%d\")\n",
        "\n",
        "niftynext50 = ['ABBOTINDIA', 'ACC', 'ADANIENT', 'ADANIGREEN', 'ADANITRANS', 'ALKEM', 'AMBUJACEM', 'APOLLOHOSP', 'AUROPHARMA', 'DMART', 'BAJAJHLDNG', 'BANDHANBNK', 'BERGEPAINT', 'BIOCON', 'BOSCHLTD', 'CADILAHC', 'COLPAL', 'DABUR', 'DLF', 'GAIL', 'GODREJCP', 'HAVELLS', 'HDFCAMC', 'HINDPETRO', 'ICICIGI', 'ICICIPRULI', 'IGL', 'INDUSTOWER', 'NAUKRI', 'INDIGO', 'JUBLFOOD', 'LTI', 'LUPIN', 'MARICO', 'MOTHERSUMI', 'MRF', 'MUTHOOTFIN', 'NMDC', 'PETRONET', 'PIDILITIND', 'PEL', 'PGHH', 'PNB', 'SBICARD', 'SIEMENS', 'TORNTPHARM', 'UBL', 'MCDOWELL-N', 'VEDL', 'YESBANK']\n",
        "companies = ['GRASIM.NS', 'TITAN.NS', 'KOTAKBANK.NS', 'TATACONSUM.NS', 'HDFCLIFE.NS', 'NTPC.NS', 'HINDALCO.NS', 'ITC.NS', 'BAJAJFINSV.NS', 'BAJAJ-AUTO.NS', 'ULTRACEMCO.NS', 'BAJFINANCE.NS',\t'NESTLEIND.NS','BHARTIARTL.NS','BRITANNIA.NS', 'SHREECEM.NS',\t'HEROMOTOCO.NS', 'MARUTI.NS', 'CIPLA.NS', 'TATASTEEL.NS', 'ONGC.NS', 'ICICIBANK.NS', 'LT.NS', 'COALINDIA.NS', 'RELIANCE.NS', 'WIPRO.NS', 'TCS.NS', 'TECHM.NS', 'IIFLWAM.NS', 'TATASTLBSL.NS', 'NH.NS', 'OIL.BO', 'DEEPAKNI.BO', 'AMBER.NS', 'PHOENIXLTD.BO', 'ROUTE.NS', 'PGHL.NS', 'GRANULES.BO', 'FORTIS.BO', 'RATNAMANI.NS', 'NBCC.NS','BIRLACORPN.NS', 'ERIS.NS', 'INTELLECT.NS', 'WABCOINDIA.BO', 'WELSPUNIND.NS', 'CGCL.NS', 'BBTC.NS', 'SOLARINDS.BO', 'CYIENT.NS', 'MCX.BO', 'IIFL.NS', 'KAJARIACER.BO']\n",
        "for i in niftynext50:\n",
        "  # For nifty next 50\n",
        "  stock = i + '.NS'\n",
        "  # For sp500 or nifty50\n",
        "  #stock = i\n",
        "  df = check(stock, start_date, end_date)\n",
        "  df.to_csv('signals.csv', mode='a', header=False)"
      ],
      "execution_count": null,
      "outputs": [
        {
          "output_type": "stream",
          "text": [
            "[*********************100%***********************]  1 of 1 completed\n",
            "Index(['Open', 'High', 'tod_o', 'tod_c', 'yest_o', 'yest_c', 'ATR20', 'buy',\n",
            "       'sell', 'company', 'target', 'stoploss'],\n",
            "      dtype='object')\n",
            "[*********************100%***********************]  1 of 1 completed\n"
          ],
          "name": "stdout"
        },
        {
          "output_type": "stream",
          "text": [
            "/usr/local/lib/python3.7/dist-packages/ipykernel_launcher.py:11: DeprecationWarning: The default dtype for empty Series will be 'object' instead of 'float64' in a future version. Specify a dtype explicitly to silence this warning.\n",
            "  # This is added back by InteractiveShellApp.init_path()\n",
            "/usr/local/lib/python3.7/dist-packages/ipykernel_launcher.py:21: DeprecationWarning: The default dtype for empty Series will be 'object' instead of 'float64' in a future version. Specify a dtype explicitly to silence this warning.\n",
            "/usr/local/lib/python3.7/dist-packages/ipykernel_launcher.py:22: DeprecationWarning: The default dtype for empty Series will be 'object' instead of 'float64' in a future version. Specify a dtype explicitly to silence this warning.\n",
            "/usr/local/lib/python3.7/dist-packages/ipykernel_launcher.py:11: DeprecationWarning: The default dtype for empty Series will be 'object' instead of 'float64' in a future version. Specify a dtype explicitly to silence this warning.\n",
            "  # This is added back by InteractiveShellApp.init_path()\n"
          ],
          "name": "stderr"
        },
        {
          "output_type": "stream",
          "text": [
            "Index(['Open', 'High', 'tod_o', 'tod_c', 'yest_o', 'yest_c', 'ATR20', 'buy',\n",
            "       'sell', 'company', 'target', 'stoploss'],\n",
            "      dtype='object')\n",
            "\r[*********************100%***********************]  1 of 1 completed"
          ],
          "name": "stdout"
        },
        {
          "output_type": "stream",
          "text": [
            "/usr/local/lib/python3.7/dist-packages/ipykernel_launcher.py:21: DeprecationWarning: The default dtype for empty Series will be 'object' instead of 'float64' in a future version. Specify a dtype explicitly to silence this warning.\n",
            "/usr/local/lib/python3.7/dist-packages/ipykernel_launcher.py:22: DeprecationWarning: The default dtype for empty Series will be 'object' instead of 'float64' in a future version. Specify a dtype explicitly to silence this warning.\n",
            "/usr/local/lib/python3.7/dist-packages/ipykernel_launcher.py:11: DeprecationWarning: The default dtype for empty Series will be 'object' instead of 'float64' in a future version. Specify a dtype explicitly to silence this warning.\n",
            "  # This is added back by InteractiveShellApp.init_path()\n",
            "/usr/local/lib/python3.7/dist-packages/ipykernel_launcher.py:21: DeprecationWarning: The default dtype for empty Series will be 'object' instead of 'float64' in a future version. Specify a dtype explicitly to silence this warning.\n",
            "/usr/local/lib/python3.7/dist-packages/ipykernel_launcher.py:22: DeprecationWarning: The default dtype for empty Series will be 'object' instead of 'float64' in a future version. Specify a dtype explicitly to silence this warning.\n"
          ],
          "name": "stderr"
        },
        {
          "output_type": "stream",
          "text": [
            "\n",
            "Index(['Open', 'High', 'tod_o', 'tod_c', 'yest_o', 'yest_c', 'ATR20', 'buy',\n",
            "       'sell', 'company', 'target', 'stoploss'],\n",
            "      dtype='object')\n",
            "[*********************100%***********************]  1 of 1 completed\n"
          ],
          "name": "stdout"
        },
        {
          "output_type": "stream",
          "text": [
            "/usr/local/lib/python3.7/dist-packages/ipykernel_launcher.py:11: DeprecationWarning: The default dtype for empty Series will be 'object' instead of 'float64' in a future version. Specify a dtype explicitly to silence this warning.\n",
            "  # This is added back by InteractiveShellApp.init_path()\n",
            "/usr/local/lib/python3.7/dist-packages/ipykernel_launcher.py:21: DeprecationWarning: The default dtype for empty Series will be 'object' instead of 'float64' in a future version. Specify a dtype explicitly to silence this warning.\n",
            "/usr/local/lib/python3.7/dist-packages/ipykernel_launcher.py:22: DeprecationWarning: The default dtype for empty Series will be 'object' instead of 'float64' in a future version. Specify a dtype explicitly to silence this warning.\n"
          ],
          "name": "stderr"
        },
        {
          "output_type": "stream",
          "text": [
            "Index(['Open', 'High', 'tod_o', 'tod_c', 'yest_o', 'yest_c', 'ATR20', 'buy',\n",
            "       'sell', 'company', 'target', 'stoploss'],\n",
            "      dtype='object')\n",
            "\r[*********************100%***********************]  1 of 1 completed\n",
            "Index(['Open', 'High', 'tod_o', 'tod_c', 'yest_o', 'yest_c', 'ATR20', 'buy',\n",
            "       'sell', 'company', 'target', 'stoploss'],\n",
            "      dtype='object')\n",
            "[*********************100%***********************]  1 of 1 completed\n",
            "Index(['Open', 'High', 'tod_o', 'tod_c', 'yest_o', 'yest_c', 'ATR20', 'buy',\n",
            "       'sell', 'company', 'target', 'stoploss'],\n",
            "      dtype='object')\n"
          ],
          "name": "stdout"
        },
        {
          "output_type": "stream",
          "text": [
            "/usr/local/lib/python3.7/dist-packages/ipykernel_launcher.py:11: DeprecationWarning: The default dtype for empty Series will be 'object' instead of 'float64' in a future version. Specify a dtype explicitly to silence this warning.\n",
            "  # This is added back by InteractiveShellApp.init_path()\n",
            "/usr/local/lib/python3.7/dist-packages/ipykernel_launcher.py:21: DeprecationWarning: The default dtype for empty Series will be 'object' instead of 'float64' in a future version. Specify a dtype explicitly to silence this warning.\n",
            "/usr/local/lib/python3.7/dist-packages/ipykernel_launcher.py:22: DeprecationWarning: The default dtype for empty Series will be 'object' instead of 'float64' in a future version. Specify a dtype explicitly to silence this warning.\n",
            "/usr/local/lib/python3.7/dist-packages/ipykernel_launcher.py:11: DeprecationWarning: The default dtype for empty Series will be 'object' instead of 'float64' in a future version. Specify a dtype explicitly to silence this warning.\n",
            "  # This is added back by InteractiveShellApp.init_path()\n",
            "/usr/local/lib/python3.7/dist-packages/ipykernel_launcher.py:21: DeprecationWarning: The default dtype for empty Series will be 'object' instead of 'float64' in a future version. Specify a dtype explicitly to silence this warning.\n",
            "/usr/local/lib/python3.7/dist-packages/ipykernel_launcher.py:22: DeprecationWarning: The default dtype for empty Series will be 'object' instead of 'float64' in a future version. Specify a dtype explicitly to silence this warning.\n"
          ],
          "name": "stderr"
        },
        {
          "output_type": "stream",
          "text": [
            "[*********************100%***********************]  1 of 1 completed\n",
            "Index(['Open', 'High', 'tod_o', 'tod_c', 'yest_o', 'yest_c', 'ATR20', 'buy',\n",
            "       'sell', 'company', 'target', 'stoploss'],\n",
            "      dtype='object')\n",
            "[*********************100%***********************]  1 of 1 completed\n"
          ],
          "name": "stdout"
        },
        {
          "output_type": "stream",
          "text": [
            "/usr/local/lib/python3.7/dist-packages/ipykernel_launcher.py:11: DeprecationWarning: The default dtype for empty Series will be 'object' instead of 'float64' in a future version. Specify a dtype explicitly to silence this warning.\n",
            "  # This is added back by InteractiveShellApp.init_path()\n",
            "/usr/local/lib/python3.7/dist-packages/ipykernel_launcher.py:21: DeprecationWarning: The default dtype for empty Series will be 'object' instead of 'float64' in a future version. Specify a dtype explicitly to silence this warning.\n",
            "/usr/local/lib/python3.7/dist-packages/ipykernel_launcher.py:22: DeprecationWarning: The default dtype for empty Series will be 'object' instead of 'float64' in a future version. Specify a dtype explicitly to silence this warning.\n",
            "/usr/local/lib/python3.7/dist-packages/ipykernel_launcher.py:11: DeprecationWarning: The default dtype for empty Series will be 'object' instead of 'float64' in a future version. Specify a dtype explicitly to silence this warning.\n",
            "  # This is added back by InteractiveShellApp.init_path()\n",
            "/usr/local/lib/python3.7/dist-packages/ipykernel_launcher.py:21: DeprecationWarning: The default dtype for empty Series will be 'object' instead of 'float64' in a future version. Specify a dtype explicitly to silence this warning.\n",
            "/usr/local/lib/python3.7/dist-packages/ipykernel_launcher.py:22: DeprecationWarning: The default dtype for empty Series will be 'object' instead of 'float64' in a future version. Specify a dtype explicitly to silence this warning.\n"
          ],
          "name": "stderr"
        },
        {
          "output_type": "stream",
          "text": [
            "Index(['Open', 'High', 'tod_o', 'tod_c', 'yest_o', 'yest_c', 'ATR20', 'buy',\n",
            "       'sell', 'company', 'target', 'stoploss'],\n",
            "      dtype='object')\n",
            "[*********************100%***********************]  1 of 1 completed\n",
            "Index(['Open', 'High', 'tod_o', 'tod_c', 'yest_o', 'yest_c', 'ATR20', 'buy',\n",
            "       'sell', 'company', 'target', 'stoploss'],\n",
            "      dtype='object')\n",
            "[*********************100%***********************]  1 of 1 completed\n",
            "Index(['Open', 'High', 'tod_o', 'tod_c', 'yest_o', 'yest_c', 'ATR20', 'buy',\n",
            "       'sell', 'company', 'target', 'stoploss'],\n",
            "      dtype='object')\n"
          ],
          "name": "stdout"
        },
        {
          "output_type": "stream",
          "text": [
            "/usr/local/lib/python3.7/dist-packages/ipykernel_launcher.py:11: DeprecationWarning: The default dtype for empty Series will be 'object' instead of 'float64' in a future version. Specify a dtype explicitly to silence this warning.\n",
            "  # This is added back by InteractiveShellApp.init_path()\n",
            "/usr/local/lib/python3.7/dist-packages/ipykernel_launcher.py:21: DeprecationWarning: The default dtype for empty Series will be 'object' instead of 'float64' in a future version. Specify a dtype explicitly to silence this warning.\n",
            "/usr/local/lib/python3.7/dist-packages/ipykernel_launcher.py:22: DeprecationWarning: The default dtype for empty Series will be 'object' instead of 'float64' in a future version. Specify a dtype explicitly to silence this warning.\n",
            "/usr/local/lib/python3.7/dist-packages/ipykernel_launcher.py:11: DeprecationWarning: The default dtype for empty Series will be 'object' instead of 'float64' in a future version. Specify a dtype explicitly to silence this warning.\n",
            "  # This is added back by InteractiveShellApp.init_path()\n",
            "/usr/local/lib/python3.7/dist-packages/ipykernel_launcher.py:21: DeprecationWarning: The default dtype for empty Series will be 'object' instead of 'float64' in a future version. Specify a dtype explicitly to silence this warning.\n",
            "/usr/local/lib/python3.7/dist-packages/ipykernel_launcher.py:22: DeprecationWarning: The default dtype for empty Series will be 'object' instead of 'float64' in a future version. Specify a dtype explicitly to silence this warning.\n"
          ],
          "name": "stderr"
        },
        {
          "output_type": "stream",
          "text": [
            "\r[*********************100%***********************]  1 of 1 completed\n",
            "Index(['Open', 'High', 'tod_o', 'tod_c', 'yest_o', 'yest_c', 'ATR20', 'buy',\n",
            "       'sell', 'company', 'target', 'stoploss'],\n",
            "      dtype='object')\n",
            "[*********************100%***********************]  1 of 1 completed\n",
            "Index(['Open', 'High', 'tod_o', 'tod_c', 'yest_o', 'yest_c', 'ATR20', 'buy',\n",
            "       'sell', 'company', 'target', 'stoploss'],\n",
            "      dtype='object')\n"
          ],
          "name": "stdout"
        },
        {
          "output_type": "stream",
          "text": [
            "/usr/local/lib/python3.7/dist-packages/ipykernel_launcher.py:11: DeprecationWarning: The default dtype for empty Series will be 'object' instead of 'float64' in a future version. Specify a dtype explicitly to silence this warning.\n",
            "  # This is added back by InteractiveShellApp.init_path()\n",
            "/usr/local/lib/python3.7/dist-packages/ipykernel_launcher.py:21: DeprecationWarning: The default dtype for empty Series will be 'object' instead of 'float64' in a future version. Specify a dtype explicitly to silence this warning.\n",
            "/usr/local/lib/python3.7/dist-packages/ipykernel_launcher.py:22: DeprecationWarning: The default dtype for empty Series will be 'object' instead of 'float64' in a future version. Specify a dtype explicitly to silence this warning.\n",
            "/usr/local/lib/python3.7/dist-packages/ipykernel_launcher.py:11: DeprecationWarning: The default dtype for empty Series will be 'object' instead of 'float64' in a future version. Specify a dtype explicitly to silence this warning.\n",
            "  # This is added back by InteractiveShellApp.init_path()\n",
            "/usr/local/lib/python3.7/dist-packages/ipykernel_launcher.py:21: DeprecationWarning: The default dtype for empty Series will be 'object' instead of 'float64' in a future version. Specify a dtype explicitly to silence this warning.\n",
            "/usr/local/lib/python3.7/dist-packages/ipykernel_launcher.py:22: DeprecationWarning: The default dtype for empty Series will be 'object' instead of 'float64' in a future version. Specify a dtype explicitly to silence this warning.\n"
          ],
          "name": "stderr"
        },
        {
          "output_type": "stream",
          "text": [
            "\r[*********************100%***********************]  1 of 1 completed\n",
            "Index(['Open', 'High', 'tod_o', 'tod_c', 'yest_o', 'yest_c', 'ATR20', 'buy',\n",
            "       'sell', 'company', 'target', 'stoploss'],\n",
            "      dtype='object')\n",
            "[*********************100%***********************]  1 of 1 completed\n",
            "Index(['Open', 'High', 'tod_o', 'tod_c', 'yest_o', 'yest_c', 'ATR20', 'buy',\n",
            "       'sell', 'company', 'target', 'stoploss'],\n",
            "      dtype='object')\n"
          ],
          "name": "stdout"
        },
        {
          "output_type": "stream",
          "text": [
            "/usr/local/lib/python3.7/dist-packages/ipykernel_launcher.py:11: DeprecationWarning: The default dtype for empty Series will be 'object' instead of 'float64' in a future version. Specify a dtype explicitly to silence this warning.\n",
            "  # This is added back by InteractiveShellApp.init_path()\n",
            "/usr/local/lib/python3.7/dist-packages/ipykernel_launcher.py:21: DeprecationWarning: The default dtype for empty Series will be 'object' instead of 'float64' in a future version. Specify a dtype explicitly to silence this warning.\n",
            "/usr/local/lib/python3.7/dist-packages/ipykernel_launcher.py:22: DeprecationWarning: The default dtype for empty Series will be 'object' instead of 'float64' in a future version. Specify a dtype explicitly to silence this warning.\n",
            "/usr/local/lib/python3.7/dist-packages/ipykernel_launcher.py:11: DeprecationWarning: The default dtype for empty Series will be 'object' instead of 'float64' in a future version. Specify a dtype explicitly to silence this warning.\n",
            "  # This is added back by InteractiveShellApp.init_path()\n",
            "/usr/local/lib/python3.7/dist-packages/ipykernel_launcher.py:21: DeprecationWarning: The default dtype for empty Series will be 'object' instead of 'float64' in a future version. Specify a dtype explicitly to silence this warning.\n",
            "/usr/local/lib/python3.7/dist-packages/ipykernel_launcher.py:22: DeprecationWarning: The default dtype for empty Series will be 'object' instead of 'float64' in a future version. Specify a dtype explicitly to silence this warning.\n"
          ],
          "name": "stderr"
        },
        {
          "output_type": "stream",
          "text": [
            "\r[*********************100%***********************]  1 of 1 completed\n",
            "Index(['Open', 'High', 'tod_o', 'tod_c', 'yest_o', 'yest_c', 'ATR20', 'buy',\n",
            "       'sell', 'company', 'target', 'stoploss'],\n",
            "      dtype='object')\n",
            "[*********************100%***********************]  1 of 1 completed\n"
          ],
          "name": "stdout"
        },
        {
          "output_type": "stream",
          "text": [
            "/usr/local/lib/python3.7/dist-packages/ipykernel_launcher.py:11: DeprecationWarning: The default dtype for empty Series will be 'object' instead of 'float64' in a future version. Specify a dtype explicitly to silence this warning.\n",
            "  # This is added back by InteractiveShellApp.init_path()\n",
            "/usr/local/lib/python3.7/dist-packages/ipykernel_launcher.py:21: DeprecationWarning: The default dtype for empty Series will be 'object' instead of 'float64' in a future version. Specify a dtype explicitly to silence this warning.\n",
            "/usr/local/lib/python3.7/dist-packages/ipykernel_launcher.py:22: DeprecationWarning: The default dtype for empty Series will be 'object' instead of 'float64' in a future version. Specify a dtype explicitly to silence this warning.\n",
            "/usr/local/lib/python3.7/dist-packages/ipykernel_launcher.py:11: DeprecationWarning: The default dtype for empty Series will be 'object' instead of 'float64' in a future version. Specify a dtype explicitly to silence this warning.\n",
            "  # This is added back by InteractiveShellApp.init_path()\n",
            "/usr/local/lib/python3.7/dist-packages/ipykernel_launcher.py:21: DeprecationWarning: The default dtype for empty Series will be 'object' instead of 'float64' in a future version. Specify a dtype explicitly to silence this warning.\n",
            "/usr/local/lib/python3.7/dist-packages/ipykernel_launcher.py:22: DeprecationWarning: The default dtype for empty Series will be 'object' instead of 'float64' in a future version. Specify a dtype explicitly to silence this warning.\n"
          ],
          "name": "stderr"
        },
        {
          "output_type": "stream",
          "text": [
            "Index(['Open', 'High', 'tod_o', 'tod_c', 'yest_o', 'yest_c', 'ATR20', 'buy',\n",
            "       'sell', 'company', 'target', 'stoploss'],\n",
            "      dtype='object')\n",
            "[*********************100%***********************]  1 of 1 completed\n",
            "Index(['Open', 'High', 'tod_o', 'tod_c', 'yest_o', 'yest_c', 'ATR20', 'buy',\n",
            "       'sell', 'company', 'target', 'stoploss'],\n",
            "      dtype='object')\n",
            "[*********************100%***********************]  1 of 1 completed\n"
          ],
          "name": "stdout"
        },
        {
          "output_type": "stream",
          "text": [
            "/usr/local/lib/python3.7/dist-packages/ipykernel_launcher.py:11: DeprecationWarning: The default dtype for empty Series will be 'object' instead of 'float64' in a future version. Specify a dtype explicitly to silence this warning.\n",
            "  # This is added back by InteractiveShellApp.init_path()\n",
            "/usr/local/lib/python3.7/dist-packages/ipykernel_launcher.py:21: DeprecationWarning: The default dtype for empty Series will be 'object' instead of 'float64' in a future version. Specify a dtype explicitly to silence this warning.\n",
            "/usr/local/lib/python3.7/dist-packages/ipykernel_launcher.py:22: DeprecationWarning: The default dtype for empty Series will be 'object' instead of 'float64' in a future version. Specify a dtype explicitly to silence this warning.\n",
            "/usr/local/lib/python3.7/dist-packages/ipykernel_launcher.py:11: DeprecationWarning: The default dtype for empty Series will be 'object' instead of 'float64' in a future version. Specify a dtype explicitly to silence this warning.\n",
            "  # This is added back by InteractiveShellApp.init_path()\n",
            "/usr/local/lib/python3.7/dist-packages/ipykernel_launcher.py:21: DeprecationWarning: The default dtype for empty Series will be 'object' instead of 'float64' in a future version. Specify a dtype explicitly to silence this warning.\n",
            "/usr/local/lib/python3.7/dist-packages/ipykernel_launcher.py:22: DeprecationWarning: The default dtype for empty Series will be 'object' instead of 'float64' in a future version. Specify a dtype explicitly to silence this warning.\n"
          ],
          "name": "stderr"
        },
        {
          "output_type": "stream",
          "text": [
            "Index(['Open', 'High', 'tod_o', 'tod_c', 'yest_o', 'yest_c', 'ATR20', 'buy',\n",
            "       'sell', 'company', 'target', 'stoploss'],\n",
            "      dtype='object')\n",
            "[*********************100%***********************]  1 of 1 completed\n"
          ],
          "name": "stdout"
        },
        {
          "output_type": "stream",
          "text": [
            "/usr/local/lib/python3.7/dist-packages/ipykernel_launcher.py:11: DeprecationWarning: The default dtype for empty Series will be 'object' instead of 'float64' in a future version. Specify a dtype explicitly to silence this warning.\n",
            "  # This is added back by InteractiveShellApp.init_path()\n",
            "/usr/local/lib/python3.7/dist-packages/ipykernel_launcher.py:21: DeprecationWarning: The default dtype for empty Series will be 'object' instead of 'float64' in a future version. Specify a dtype explicitly to silence this warning.\n",
            "/usr/local/lib/python3.7/dist-packages/ipykernel_launcher.py:22: DeprecationWarning: The default dtype for empty Series will be 'object' instead of 'float64' in a future version. Specify a dtype explicitly to silence this warning.\n"
          ],
          "name": "stderr"
        },
        {
          "output_type": "stream",
          "text": [
            "Index(['Open', 'High', 'tod_o', 'tod_c', 'yest_o', 'yest_c', 'ATR20', 'buy',\n",
            "       'sell', 'company', 'target', 'stoploss'],\n",
            "      dtype='object')\n",
            "[*********************100%***********************]  1 of 1 completed\n",
            "Index(['Open', 'High', 'tod_o', 'tod_c', 'yest_o', 'yest_c', 'ATR20', 'buy',\n",
            "       'sell', 'company', 'target', 'stoploss'],\n",
            "      dtype='object')\n",
            "[*********************100%***********************]  1 of 1 completed\n"
          ],
          "name": "stdout"
        },
        {
          "output_type": "stream",
          "text": [
            "/usr/local/lib/python3.7/dist-packages/ipykernel_launcher.py:11: DeprecationWarning: The default dtype for empty Series will be 'object' instead of 'float64' in a future version. Specify a dtype explicitly to silence this warning.\n",
            "  # This is added back by InteractiveShellApp.init_path()\n",
            "/usr/local/lib/python3.7/dist-packages/ipykernel_launcher.py:21: DeprecationWarning: The default dtype for empty Series will be 'object' instead of 'float64' in a future version. Specify a dtype explicitly to silence this warning.\n",
            "/usr/local/lib/python3.7/dist-packages/ipykernel_launcher.py:22: DeprecationWarning: The default dtype for empty Series will be 'object' instead of 'float64' in a future version. Specify a dtype explicitly to silence this warning.\n",
            "/usr/local/lib/python3.7/dist-packages/ipykernel_launcher.py:11: DeprecationWarning: The default dtype for empty Series will be 'object' instead of 'float64' in a future version. Specify a dtype explicitly to silence this warning.\n",
            "  # This is added back by InteractiveShellApp.init_path()\n",
            "/usr/local/lib/python3.7/dist-packages/ipykernel_launcher.py:21: DeprecationWarning: The default dtype for empty Series will be 'object' instead of 'float64' in a future version. Specify a dtype explicitly to silence this warning.\n",
            "/usr/local/lib/python3.7/dist-packages/ipykernel_launcher.py:22: DeprecationWarning: The default dtype for empty Series will be 'object' instead of 'float64' in a future version. Specify a dtype explicitly to silence this warning.\n"
          ],
          "name": "stderr"
        },
        {
          "output_type": "stream",
          "text": [
            "Index(['Open', 'High', 'tod_o', 'tod_c', 'yest_o', 'yest_c', 'ATR20', 'buy',\n",
            "       'sell', 'company', 'target', 'stoploss'],\n",
            "      dtype='object')\n",
            "[*********************100%***********************]  1 of 1 completed\n",
            "Index(['Open', 'High', 'tod_o', 'tod_c', 'yest_o', 'yest_c', 'ATR20', 'buy',\n",
            "       'sell', 'company', 'target', 'stoploss'],\n",
            "      dtype='object')\n",
            "[*********************100%***********************]  1 of 1 completed\n"
          ],
          "name": "stdout"
        },
        {
          "output_type": "stream",
          "text": [
            "/usr/local/lib/python3.7/dist-packages/ipykernel_launcher.py:11: DeprecationWarning: The default dtype for empty Series will be 'object' instead of 'float64' in a future version. Specify a dtype explicitly to silence this warning.\n",
            "  # This is added back by InteractiveShellApp.init_path()\n",
            "/usr/local/lib/python3.7/dist-packages/ipykernel_launcher.py:21: DeprecationWarning: The default dtype for empty Series will be 'object' instead of 'float64' in a future version. Specify a dtype explicitly to silence this warning.\n",
            "/usr/local/lib/python3.7/dist-packages/ipykernel_launcher.py:22: DeprecationWarning: The default dtype for empty Series will be 'object' instead of 'float64' in a future version. Specify a dtype explicitly to silence this warning.\n",
            "/usr/local/lib/python3.7/dist-packages/ipykernel_launcher.py:11: DeprecationWarning: The default dtype for empty Series will be 'object' instead of 'float64' in a future version. Specify a dtype explicitly to silence this warning.\n",
            "  # This is added back by InteractiveShellApp.init_path()\n",
            "/usr/local/lib/python3.7/dist-packages/ipykernel_launcher.py:21: DeprecationWarning: The default dtype for empty Series will be 'object' instead of 'float64' in a future version. Specify a dtype explicitly to silence this warning.\n",
            "/usr/local/lib/python3.7/dist-packages/ipykernel_launcher.py:22: DeprecationWarning: The default dtype for empty Series will be 'object' instead of 'float64' in a future version. Specify a dtype explicitly to silence this warning.\n"
          ],
          "name": "stderr"
        },
        {
          "output_type": "stream",
          "text": [
            "Index(['Open', 'High', 'tod_o', 'tod_c', 'yest_o', 'yest_c', 'ATR20', 'buy',\n",
            "       'sell', 'company', 'target', 'stoploss'],\n",
            "      dtype='object')\n",
            "[*********************100%***********************]  1 of 1 completed\n",
            "Index(['Open', 'High', 'tod_o', 'tod_c', 'yest_o', 'yest_c', 'ATR20', 'buy',\n",
            "       'sell', 'company', 'target', 'stoploss'],\n",
            "      dtype='object')\n",
            "[*********************100%***********************]  1 of 1 completed\n"
          ],
          "name": "stdout"
        },
        {
          "output_type": "stream",
          "text": [
            "/usr/local/lib/python3.7/dist-packages/ipykernel_launcher.py:11: DeprecationWarning: The default dtype for empty Series will be 'object' instead of 'float64' in a future version. Specify a dtype explicitly to silence this warning.\n",
            "  # This is added back by InteractiveShellApp.init_path()\n",
            "/usr/local/lib/python3.7/dist-packages/ipykernel_launcher.py:21: DeprecationWarning: The default dtype for empty Series will be 'object' instead of 'float64' in a future version. Specify a dtype explicitly to silence this warning.\n",
            "/usr/local/lib/python3.7/dist-packages/ipykernel_launcher.py:22: DeprecationWarning: The default dtype for empty Series will be 'object' instead of 'float64' in a future version. Specify a dtype explicitly to silence this warning.\n",
            "/usr/local/lib/python3.7/dist-packages/ipykernel_launcher.py:11: DeprecationWarning: The default dtype for empty Series will be 'object' instead of 'float64' in a future version. Specify a dtype explicitly to silence this warning.\n",
            "  # This is added back by InteractiveShellApp.init_path()\n",
            "/usr/local/lib/python3.7/dist-packages/ipykernel_launcher.py:21: DeprecationWarning: The default dtype for empty Series will be 'object' instead of 'float64' in a future version. Specify a dtype explicitly to silence this warning.\n",
            "/usr/local/lib/python3.7/dist-packages/ipykernel_launcher.py:22: DeprecationWarning: The default dtype for empty Series will be 'object' instead of 'float64' in a future version. Specify a dtype explicitly to silence this warning.\n"
          ],
          "name": "stderr"
        },
        {
          "output_type": "stream",
          "text": [
            "Index(['Open', 'High', 'tod_o', 'tod_c', 'yest_o', 'yest_c', 'ATR20', 'buy',\n",
            "       'sell', 'company', 'target', 'stoploss'],\n",
            "      dtype='object')\n",
            "[*********************100%***********************]  1 of 1 completed\n",
            "Index(['Open', 'High', 'tod_o', 'tod_c', 'yest_o', 'yest_c', 'ATR20', 'buy',\n",
            "       'sell', 'company', 'target', 'stoploss'],\n",
            "      dtype='object')\n",
            "[*********************100%***********************]  1 of 1 completed\n",
            "Index(['Open', 'High', 'tod_o', 'tod_c', 'yest_o', 'yest_c', 'ATR20', 'buy',\n",
            "       'sell', 'company', 'target', 'stoploss'],\n",
            "      dtype='object')\n"
          ],
          "name": "stdout"
        },
        {
          "output_type": "stream",
          "text": [
            "/usr/local/lib/python3.7/dist-packages/ipykernel_launcher.py:11: DeprecationWarning: The default dtype for empty Series will be 'object' instead of 'float64' in a future version. Specify a dtype explicitly to silence this warning.\n",
            "  # This is added back by InteractiveShellApp.init_path()\n",
            "/usr/local/lib/python3.7/dist-packages/ipykernel_launcher.py:21: DeprecationWarning: The default dtype for empty Series will be 'object' instead of 'float64' in a future version. Specify a dtype explicitly to silence this warning.\n",
            "/usr/local/lib/python3.7/dist-packages/ipykernel_launcher.py:22: DeprecationWarning: The default dtype for empty Series will be 'object' instead of 'float64' in a future version. Specify a dtype explicitly to silence this warning.\n",
            "/usr/local/lib/python3.7/dist-packages/ipykernel_launcher.py:11: DeprecationWarning: The default dtype for empty Series will be 'object' instead of 'float64' in a future version. Specify a dtype explicitly to silence this warning.\n",
            "  # This is added back by InteractiveShellApp.init_path()\n",
            "/usr/local/lib/python3.7/dist-packages/ipykernel_launcher.py:21: DeprecationWarning: The default dtype for empty Series will be 'object' instead of 'float64' in a future version. Specify a dtype explicitly to silence this warning.\n",
            "/usr/local/lib/python3.7/dist-packages/ipykernel_launcher.py:22: DeprecationWarning: The default dtype for empty Series will be 'object' instead of 'float64' in a future version. Specify a dtype explicitly to silence this warning.\n"
          ],
          "name": "stderr"
        },
        {
          "output_type": "stream",
          "text": [
            "\r[*********************100%***********************]  1 of 1 completed\n",
            "Index(['Open', 'High', 'tod_o', 'tod_c', 'yest_o', 'yest_c', 'ATR20', 'buy',\n",
            "       'sell', 'company', 'target', 'stoploss'],\n",
            "      dtype='object')\n",
            "[*********************100%***********************]  1 of 1 completed\n",
            "Index(['Open', 'High', 'tod_o', 'tod_c', 'yest_o', 'yest_c', 'ATR20', 'buy',\n",
            "       'sell', 'company', 'target', 'stoploss'],\n",
            "      dtype='object')\n"
          ],
          "name": "stdout"
        },
        {
          "output_type": "stream",
          "text": [
            "/usr/local/lib/python3.7/dist-packages/ipykernel_launcher.py:11: DeprecationWarning: The default dtype for empty Series will be 'object' instead of 'float64' in a future version. Specify a dtype explicitly to silence this warning.\n",
            "  # This is added back by InteractiveShellApp.init_path()\n",
            "/usr/local/lib/python3.7/dist-packages/ipykernel_launcher.py:21: DeprecationWarning: The default dtype for empty Series will be 'object' instead of 'float64' in a future version. Specify a dtype explicitly to silence this warning.\n",
            "/usr/local/lib/python3.7/dist-packages/ipykernel_launcher.py:22: DeprecationWarning: The default dtype for empty Series will be 'object' instead of 'float64' in a future version. Specify a dtype explicitly to silence this warning.\n",
            "/usr/local/lib/python3.7/dist-packages/ipykernel_launcher.py:11: DeprecationWarning: The default dtype for empty Series will be 'object' instead of 'float64' in a future version. Specify a dtype explicitly to silence this warning.\n",
            "  # This is added back by InteractiveShellApp.init_path()\n",
            "/usr/local/lib/python3.7/dist-packages/ipykernel_launcher.py:21: DeprecationWarning: The default dtype for empty Series will be 'object' instead of 'float64' in a future version. Specify a dtype explicitly to silence this warning.\n",
            "/usr/local/lib/python3.7/dist-packages/ipykernel_launcher.py:22: DeprecationWarning: The default dtype for empty Series will be 'object' instead of 'float64' in a future version. Specify a dtype explicitly to silence this warning.\n"
          ],
          "name": "stderr"
        },
        {
          "output_type": "stream",
          "text": [
            "[*********************100%***********************]  1 of 1 completed\n",
            "Index(['Open', 'High', 'tod_o', 'tod_c', 'yest_o', 'yest_c', 'ATR20', 'buy',\n",
            "       'sell', 'company', 'target', 'stoploss'],\n",
            "      dtype='object')\n",
            "[*********************100%***********************]  1 of 1 completed\n"
          ],
          "name": "stdout"
        },
        {
          "output_type": "stream",
          "text": [
            "/usr/local/lib/python3.7/dist-packages/ipykernel_launcher.py:11: DeprecationWarning: The default dtype for empty Series will be 'object' instead of 'float64' in a future version. Specify a dtype explicitly to silence this warning.\n",
            "  # This is added back by InteractiveShellApp.init_path()\n",
            "/usr/local/lib/python3.7/dist-packages/ipykernel_launcher.py:21: DeprecationWarning: The default dtype for empty Series will be 'object' instead of 'float64' in a future version. Specify a dtype explicitly to silence this warning.\n",
            "/usr/local/lib/python3.7/dist-packages/ipykernel_launcher.py:22: DeprecationWarning: The default dtype for empty Series will be 'object' instead of 'float64' in a future version. Specify a dtype explicitly to silence this warning.\n",
            "/usr/local/lib/python3.7/dist-packages/ipykernel_launcher.py:11: DeprecationWarning: The default dtype for empty Series will be 'object' instead of 'float64' in a future version. Specify a dtype explicitly to silence this warning.\n",
            "  # This is added back by InteractiveShellApp.init_path()\n",
            "/usr/local/lib/python3.7/dist-packages/ipykernel_launcher.py:21: DeprecationWarning: The default dtype for empty Series will be 'object' instead of 'float64' in a future version. Specify a dtype explicitly to silence this warning.\n",
            "/usr/local/lib/python3.7/dist-packages/ipykernel_launcher.py:22: DeprecationWarning: The default dtype for empty Series will be 'object' instead of 'float64' in a future version. Specify a dtype explicitly to silence this warning.\n"
          ],
          "name": "stderr"
        },
        {
          "output_type": "stream",
          "text": [
            "Index(['Open', 'High', 'tod_o', 'tod_c', 'yest_o', 'yest_c', 'ATR20', 'buy',\n",
            "       'sell', 'company', 'target', 'stoploss'],\n",
            "      dtype='object')\n",
            "[*********************100%***********************]  1 of 1 completed\n",
            "Index(['Open', 'High', 'tod_o', 'tod_c', 'yest_o', 'yest_c', 'ATR20', 'buy',\n",
            "       'sell', 'company', 'target', 'stoploss'],\n",
            "      dtype='object')\n",
            "[*********************100%***********************]  1 of 1 completed\n"
          ],
          "name": "stdout"
        },
        {
          "output_type": "stream",
          "text": [
            "/usr/local/lib/python3.7/dist-packages/ipykernel_launcher.py:11: DeprecationWarning: The default dtype for empty Series will be 'object' instead of 'float64' in a future version. Specify a dtype explicitly to silence this warning.\n",
            "  # This is added back by InteractiveShellApp.init_path()\n",
            "/usr/local/lib/python3.7/dist-packages/ipykernel_launcher.py:21: DeprecationWarning: The default dtype for empty Series will be 'object' instead of 'float64' in a future version. Specify a dtype explicitly to silence this warning.\n",
            "/usr/local/lib/python3.7/dist-packages/ipykernel_launcher.py:22: DeprecationWarning: The default dtype for empty Series will be 'object' instead of 'float64' in a future version. Specify a dtype explicitly to silence this warning.\n",
            "/usr/local/lib/python3.7/dist-packages/ipykernel_launcher.py:11: DeprecationWarning: The default dtype for empty Series will be 'object' instead of 'float64' in a future version. Specify a dtype explicitly to silence this warning.\n",
            "  # This is added back by InteractiveShellApp.init_path()\n"
          ],
          "name": "stderr"
        },
        {
          "output_type": "stream",
          "text": [
            "Index(['Open', 'High', 'tod_o', 'tod_c', 'yest_o', 'yest_c', 'ATR20', 'buy',\n",
            "       'sell', 'company', 'target', 'stoploss'],\n",
            "      dtype='object')\n",
            "[*********************100%***********************]  1 of 1 completed\n"
          ],
          "name": "stdout"
        },
        {
          "output_type": "stream",
          "text": [
            "/usr/local/lib/python3.7/dist-packages/ipykernel_launcher.py:21: DeprecationWarning: The default dtype for empty Series will be 'object' instead of 'float64' in a future version. Specify a dtype explicitly to silence this warning.\n",
            "/usr/local/lib/python3.7/dist-packages/ipykernel_launcher.py:22: DeprecationWarning: The default dtype for empty Series will be 'object' instead of 'float64' in a future version. Specify a dtype explicitly to silence this warning.\n",
            "/usr/local/lib/python3.7/dist-packages/ipykernel_launcher.py:11: DeprecationWarning: The default dtype for empty Series will be 'object' instead of 'float64' in a future version. Specify a dtype explicitly to silence this warning.\n",
            "  # This is added back by InteractiveShellApp.init_path()\n",
            "/usr/local/lib/python3.7/dist-packages/ipykernel_launcher.py:21: DeprecationWarning: The default dtype for empty Series will be 'object' instead of 'float64' in a future version. Specify a dtype explicitly to silence this warning.\n",
            "/usr/local/lib/python3.7/dist-packages/ipykernel_launcher.py:22: DeprecationWarning: The default dtype for empty Series will be 'object' instead of 'float64' in a future version. Specify a dtype explicitly to silence this warning.\n"
          ],
          "name": "stderr"
        },
        {
          "output_type": "stream",
          "text": [
            "Index(['Open', 'High', 'tod_o', 'tod_c', 'yest_o', 'yest_c', 'ATR20', 'buy',\n",
            "       'sell', 'company', 'target', 'stoploss'],\n",
            "      dtype='object')\n",
            "[*********************100%***********************]  1 of 1 completed\n",
            "Index(['Open', 'High', 'tod_o', 'tod_c', 'yest_o', 'yest_c', 'ATR20', 'buy',\n",
            "       'sell', 'company', 'target', 'stoploss'],\n",
            "      dtype='object')\n",
            "[*********************100%***********************]  1 of 1 completed\n",
            "Index(['Open', 'High', 'tod_o', 'tod_c', 'yest_o', 'yest_c', 'ATR20', 'buy',\n",
            "       'sell', 'company', 'target', 'stoploss'],\n",
            "      dtype='object')\n"
          ],
          "name": "stdout"
        },
        {
          "output_type": "stream",
          "text": [
            "/usr/local/lib/python3.7/dist-packages/ipykernel_launcher.py:11: DeprecationWarning: The default dtype for empty Series will be 'object' instead of 'float64' in a future version. Specify a dtype explicitly to silence this warning.\n",
            "  # This is added back by InteractiveShellApp.init_path()\n",
            "/usr/local/lib/python3.7/dist-packages/ipykernel_launcher.py:21: DeprecationWarning: The default dtype for empty Series will be 'object' instead of 'float64' in a future version. Specify a dtype explicitly to silence this warning.\n",
            "/usr/local/lib/python3.7/dist-packages/ipykernel_launcher.py:22: DeprecationWarning: The default dtype for empty Series will be 'object' instead of 'float64' in a future version. Specify a dtype explicitly to silence this warning.\n",
            "/usr/local/lib/python3.7/dist-packages/ipykernel_launcher.py:11: DeprecationWarning: The default dtype for empty Series will be 'object' instead of 'float64' in a future version. Specify a dtype explicitly to silence this warning.\n",
            "  # This is added back by InteractiveShellApp.init_path()\n",
            "/usr/local/lib/python3.7/dist-packages/ipykernel_launcher.py:21: DeprecationWarning: The default dtype for empty Series will be 'object' instead of 'float64' in a future version. Specify a dtype explicitly to silence this warning.\n",
            "/usr/local/lib/python3.7/dist-packages/ipykernel_launcher.py:22: DeprecationWarning: The default dtype for empty Series will be 'object' instead of 'float64' in a future version. Specify a dtype explicitly to silence this warning.\n"
          ],
          "name": "stderr"
        },
        {
          "output_type": "stream",
          "text": [
            "\r[*********************100%***********************]  1 of 1 completed\n",
            "Index(['Open', 'High', 'tod_o', 'tod_c', 'yest_o', 'yest_c', 'ATR20', 'buy',\n",
            "       'sell', 'company', 'target', 'stoploss'],\n",
            "      dtype='object')\n",
            "[*********************100%***********************]  1 of 1 completed\n",
            "Index(['Open', 'High', 'tod_o', 'tod_c', 'yest_o', 'yest_c', 'ATR20', 'buy',\n",
            "       'sell', 'company', 'target', 'stoploss'],\n",
            "      dtype='object')\n"
          ],
          "name": "stdout"
        },
        {
          "output_type": "stream",
          "text": [
            "/usr/local/lib/python3.7/dist-packages/ipykernel_launcher.py:11: DeprecationWarning: The default dtype for empty Series will be 'object' instead of 'float64' in a future version. Specify a dtype explicitly to silence this warning.\n",
            "  # This is added back by InteractiveShellApp.init_path()\n",
            "/usr/local/lib/python3.7/dist-packages/ipykernel_launcher.py:21: DeprecationWarning: The default dtype for empty Series will be 'object' instead of 'float64' in a future version. Specify a dtype explicitly to silence this warning.\n",
            "/usr/local/lib/python3.7/dist-packages/ipykernel_launcher.py:22: DeprecationWarning: The default dtype for empty Series will be 'object' instead of 'float64' in a future version. Specify a dtype explicitly to silence this warning.\n",
            "/usr/local/lib/python3.7/dist-packages/ipykernel_launcher.py:11: DeprecationWarning: The default dtype for empty Series will be 'object' instead of 'float64' in a future version. Specify a dtype explicitly to silence this warning.\n",
            "  # This is added back by InteractiveShellApp.init_path()\n",
            "/usr/local/lib/python3.7/dist-packages/ipykernel_launcher.py:21: DeprecationWarning: The default dtype for empty Series will be 'object' instead of 'float64' in a future version. Specify a dtype explicitly to silence this warning.\n",
            "/usr/local/lib/python3.7/dist-packages/ipykernel_launcher.py:22: DeprecationWarning: The default dtype for empty Series will be 'object' instead of 'float64' in a future version. Specify a dtype explicitly to silence this warning.\n"
          ],
          "name": "stderr"
        },
        {
          "output_type": "stream",
          "text": [
            "\r[*********************100%***********************]  1 of 1 completed\n",
            "Index(['Open', 'High', 'tod_o', 'tod_c', 'yest_o', 'yest_c', 'ATR20', 'buy',\n",
            "       'sell', 'company', 'target', 'stoploss'],\n",
            "      dtype='object')\n",
            "[*********************100%***********************]  1 of 1 completed\n"
          ],
          "name": "stdout"
        },
        {
          "output_type": "stream",
          "text": [
            "/usr/local/lib/python3.7/dist-packages/ipykernel_launcher.py:11: DeprecationWarning: The default dtype for empty Series will be 'object' instead of 'float64' in a future version. Specify a dtype explicitly to silence this warning.\n",
            "  # This is added back by InteractiveShellApp.init_path()\n",
            "/usr/local/lib/python3.7/dist-packages/ipykernel_launcher.py:21: DeprecationWarning: The default dtype for empty Series will be 'object' instead of 'float64' in a future version. Specify a dtype explicitly to silence this warning.\n",
            "/usr/local/lib/python3.7/dist-packages/ipykernel_launcher.py:22: DeprecationWarning: The default dtype for empty Series will be 'object' instead of 'float64' in a future version. Specify a dtype explicitly to silence this warning.\n",
            "/usr/local/lib/python3.7/dist-packages/ipykernel_launcher.py:11: DeprecationWarning: The default dtype for empty Series will be 'object' instead of 'float64' in a future version. Specify a dtype explicitly to silence this warning.\n",
            "  # This is added back by InteractiveShellApp.init_path()\n"
          ],
          "name": "stderr"
        },
        {
          "output_type": "stream",
          "text": [
            "Index(['Open', 'High', 'tod_o', 'tod_c', 'yest_o', 'yest_c', 'ATR20', 'buy',\n",
            "       'sell', 'company', 'target', 'stoploss'],\n",
            "      dtype='object')\n",
            "\r[*********************100%***********************]  1 of 1 completed\n"
          ],
          "name": "stdout"
        },
        {
          "output_type": "stream",
          "text": [
            "/usr/local/lib/python3.7/dist-packages/ipykernel_launcher.py:21: DeprecationWarning: The default dtype for empty Series will be 'object' instead of 'float64' in a future version. Specify a dtype explicitly to silence this warning.\n",
            "/usr/local/lib/python3.7/dist-packages/ipykernel_launcher.py:22: DeprecationWarning: The default dtype for empty Series will be 'object' instead of 'float64' in a future version. Specify a dtype explicitly to silence this warning.\n",
            "/usr/local/lib/python3.7/dist-packages/ipykernel_launcher.py:11: DeprecationWarning: The default dtype for empty Series will be 'object' instead of 'float64' in a future version. Specify a dtype explicitly to silence this warning.\n",
            "  # This is added back by InteractiveShellApp.init_path()\n",
            "/usr/local/lib/python3.7/dist-packages/ipykernel_launcher.py:21: DeprecationWarning: The default dtype for empty Series will be 'object' instead of 'float64' in a future version. Specify a dtype explicitly to silence this warning.\n",
            "/usr/local/lib/python3.7/dist-packages/ipykernel_launcher.py:22: DeprecationWarning: The default dtype for empty Series will be 'object' instead of 'float64' in a future version. Specify a dtype explicitly to silence this warning.\n"
          ],
          "name": "stderr"
        },
        {
          "output_type": "stream",
          "text": [
            "Index(['Open', 'High', 'tod_o', 'tod_c', 'yest_o', 'yest_c', 'ATR20', 'buy',\n",
            "       'sell', 'company', 'target', 'stoploss'],\n",
            "      dtype='object')\n",
            "[*********************100%***********************]  1 of 1 completed\n",
            "Index(['Open', 'High', 'tod_o', 'tod_c', 'yest_o', 'yest_c', 'ATR20', 'buy',\n",
            "       'sell', 'company', 'target', 'stoploss'],\n",
            "      dtype='object')\n",
            "[*********************100%***********************]  1 of 1 completed\n",
            "Index(['Open', 'High', 'tod_o', 'tod_c', 'yest_o', 'yest_c', 'ATR20', 'buy',\n",
            "       'sell', 'company', 'target', 'stoploss'],\n",
            "      dtype='object')\n"
          ],
          "name": "stdout"
        },
        {
          "output_type": "stream",
          "text": [
            "/usr/local/lib/python3.7/dist-packages/ipykernel_launcher.py:11: DeprecationWarning: The default dtype for empty Series will be 'object' instead of 'float64' in a future version. Specify a dtype explicitly to silence this warning.\n",
            "  # This is added back by InteractiveShellApp.init_path()\n",
            "/usr/local/lib/python3.7/dist-packages/ipykernel_launcher.py:21: DeprecationWarning: The default dtype for empty Series will be 'object' instead of 'float64' in a future version. Specify a dtype explicitly to silence this warning.\n",
            "/usr/local/lib/python3.7/dist-packages/ipykernel_launcher.py:22: DeprecationWarning: The default dtype for empty Series will be 'object' instead of 'float64' in a future version. Specify a dtype explicitly to silence this warning.\n",
            "/usr/local/lib/python3.7/dist-packages/ipykernel_launcher.py:11: DeprecationWarning: The default dtype for empty Series will be 'object' instead of 'float64' in a future version. Specify a dtype explicitly to silence this warning.\n",
            "  # This is added back by InteractiveShellApp.init_path()\n",
            "/usr/local/lib/python3.7/dist-packages/ipykernel_launcher.py:21: DeprecationWarning: The default dtype for empty Series will be 'object' instead of 'float64' in a future version. Specify a dtype explicitly to silence this warning.\n",
            "/usr/local/lib/python3.7/dist-packages/ipykernel_launcher.py:22: DeprecationWarning: The default dtype for empty Series will be 'object' instead of 'float64' in a future version. Specify a dtype explicitly to silence this warning.\n"
          ],
          "name": "stderr"
        },
        {
          "output_type": "stream",
          "text": [
            "\r[*********************100%***********************]  1 of 1 completed\n",
            "Index(['Open', 'High', 'tod_o', 'tod_c', 'yest_o', 'yest_c', 'ATR20', 'buy',\n",
            "       'sell', 'company', 'target', 'stoploss'],\n",
            "      dtype='object')\n",
            "[*********************100%***********************]  1 of 1 completed\n"
          ],
          "name": "stdout"
        },
        {
          "output_type": "stream",
          "text": [
            "/usr/local/lib/python3.7/dist-packages/ipykernel_launcher.py:11: DeprecationWarning: The default dtype for empty Series will be 'object' instead of 'float64' in a future version. Specify a dtype explicitly to silence this warning.\n",
            "  # This is added back by InteractiveShellApp.init_path()\n",
            "/usr/local/lib/python3.7/dist-packages/ipykernel_launcher.py:21: DeprecationWarning: The default dtype for empty Series will be 'object' instead of 'float64' in a future version. Specify a dtype explicitly to silence this warning.\n",
            "/usr/local/lib/python3.7/dist-packages/ipykernel_launcher.py:22: DeprecationWarning: The default dtype for empty Series will be 'object' instead of 'float64' in a future version. Specify a dtype explicitly to silence this warning.\n",
            "/usr/local/lib/python3.7/dist-packages/ipykernel_launcher.py:11: DeprecationWarning: The default dtype for empty Series will be 'object' instead of 'float64' in a future version. Specify a dtype explicitly to silence this warning.\n",
            "  # This is added back by InteractiveShellApp.init_path()\n",
            "/usr/local/lib/python3.7/dist-packages/ipykernel_launcher.py:21: DeprecationWarning: The default dtype for empty Series will be 'object' instead of 'float64' in a future version. Specify a dtype explicitly to silence this warning.\n",
            "/usr/local/lib/python3.7/dist-packages/ipykernel_launcher.py:22: DeprecationWarning: The default dtype for empty Series will be 'object' instead of 'float64' in a future version. Specify a dtype explicitly to silence this warning.\n"
          ],
          "name": "stderr"
        },
        {
          "output_type": "stream",
          "text": [
            "Index(['Open', 'High', 'tod_o', 'tod_c', 'yest_o', 'yest_c', 'ATR20', 'buy',\n",
            "       'sell', 'company', 'target', 'stoploss'],\n",
            "      dtype='object')\n",
            "[*********************100%***********************]  1 of 1 completed\n",
            "Index(['Open', 'High', 'tod_o', 'tod_c', 'yest_o', 'yest_c', 'ATR20', 'buy',\n",
            "       'sell', 'company', 'target', 'stoploss'],\n",
            "      dtype='object')\n",
            "[*********************100%***********************]  1 of 1 completed\n",
            "Index(['Open', 'High', 'tod_o', 'tod_c', 'yest_o', 'yest_c', 'ATR20', 'buy',\n",
            "       'sell', 'company', 'target', 'stoploss'],\n",
            "      dtype='object')\n"
          ],
          "name": "stdout"
        },
        {
          "output_type": "stream",
          "text": [
            "/usr/local/lib/python3.7/dist-packages/ipykernel_launcher.py:11: DeprecationWarning: The default dtype for empty Series will be 'object' instead of 'float64' in a future version. Specify a dtype explicitly to silence this warning.\n",
            "  # This is added back by InteractiveShellApp.init_path()\n",
            "/usr/local/lib/python3.7/dist-packages/ipykernel_launcher.py:21: DeprecationWarning: The default dtype for empty Series will be 'object' instead of 'float64' in a future version. Specify a dtype explicitly to silence this warning.\n",
            "/usr/local/lib/python3.7/dist-packages/ipykernel_launcher.py:22: DeprecationWarning: The default dtype for empty Series will be 'object' instead of 'float64' in a future version. Specify a dtype explicitly to silence this warning.\n",
            "/usr/local/lib/python3.7/dist-packages/ipykernel_launcher.py:11: DeprecationWarning: The default dtype for empty Series will be 'object' instead of 'float64' in a future version. Specify a dtype explicitly to silence this warning.\n",
            "  # This is added back by InteractiveShellApp.init_path()\n",
            "/usr/local/lib/python3.7/dist-packages/ipykernel_launcher.py:21: DeprecationWarning: The default dtype for empty Series will be 'object' instead of 'float64' in a future version. Specify a dtype explicitly to silence this warning.\n",
            "/usr/local/lib/python3.7/dist-packages/ipykernel_launcher.py:22: DeprecationWarning: The default dtype for empty Series will be 'object' instead of 'float64' in a future version. Specify a dtype explicitly to silence this warning.\n"
          ],
          "name": "stderr"
        },
        {
          "output_type": "stream",
          "text": [
            "\r[*********************100%***********************]  1 of 1 completed\n",
            "Index(['Open', 'High', 'tod_o', 'tod_c', 'yest_o', 'yest_c', 'ATR20', 'buy',\n",
            "       'sell', 'company', 'target', 'stoploss'],\n",
            "      dtype='object')\n",
            "[*********************100%***********************]  1 of 1 completed\n"
          ],
          "name": "stdout"
        },
        {
          "output_type": "stream",
          "text": [
            "/usr/local/lib/python3.7/dist-packages/ipykernel_launcher.py:11: DeprecationWarning: The default dtype for empty Series will be 'object' instead of 'float64' in a future version. Specify a dtype explicitly to silence this warning.\n",
            "  # This is added back by InteractiveShellApp.init_path()\n",
            "/usr/local/lib/python3.7/dist-packages/ipykernel_launcher.py:21: DeprecationWarning: The default dtype for empty Series will be 'object' instead of 'float64' in a future version. Specify a dtype explicitly to silence this warning.\n",
            "/usr/local/lib/python3.7/dist-packages/ipykernel_launcher.py:22: DeprecationWarning: The default dtype for empty Series will be 'object' instead of 'float64' in a future version. Specify a dtype explicitly to silence this warning.\n",
            "/usr/local/lib/python3.7/dist-packages/ipykernel_launcher.py:11: DeprecationWarning: The default dtype for empty Series will be 'object' instead of 'float64' in a future version. Specify a dtype explicitly to silence this warning.\n",
            "  # This is added back by InteractiveShellApp.init_path()\n",
            "/usr/local/lib/python3.7/dist-packages/ipykernel_launcher.py:21: DeprecationWarning: The default dtype for empty Series will be 'object' instead of 'float64' in a future version. Specify a dtype explicitly to silence this warning.\n",
            "/usr/local/lib/python3.7/dist-packages/ipykernel_launcher.py:22: DeprecationWarning: The default dtype for empty Series will be 'object' instead of 'float64' in a future version. Specify a dtype explicitly to silence this warning.\n"
          ],
          "name": "stderr"
        },
        {
          "output_type": "stream",
          "text": [
            "Index(['Open', 'High', 'tod_o', 'tod_c', 'yest_o', 'yest_c', 'ATR20', 'buy',\n",
            "       'sell', 'company', 'target', 'stoploss'],\n",
            "      dtype='object')\n",
            "\r[*********************100%***********************]  1 of 1 completed\n",
            "Index(['Open', 'High', 'tod_o', 'tod_c', 'yest_o', 'yest_c', 'ATR20', 'buy',\n",
            "       'sell', 'company', 'target', 'stoploss'],\n",
            "      dtype='object')\n"
          ],
          "name": "stdout"
        },
        {
          "output_type": "stream",
          "text": [
            "/usr/local/lib/python3.7/dist-packages/ipykernel_launcher.py:11: DeprecationWarning: The default dtype for empty Series will be 'object' instead of 'float64' in a future version. Specify a dtype explicitly to silence this warning.\n",
            "  # This is added back by InteractiveShellApp.init_path()\n",
            "/usr/local/lib/python3.7/dist-packages/ipykernel_launcher.py:21: DeprecationWarning: The default dtype for empty Series will be 'object' instead of 'float64' in a future version. Specify a dtype explicitly to silence this warning.\n",
            "/usr/local/lib/python3.7/dist-packages/ipykernel_launcher.py:22: DeprecationWarning: The default dtype for empty Series will be 'object' instead of 'float64' in a future version. Specify a dtype explicitly to silence this warning.\n"
          ],
          "name": "stderr"
        }
      ]
    },
    {
      "cell_type": "code",
      "metadata": {
        "colab": {
          "base_uri": "https://localhost:8080/",
          "height": 1000
        },
        "id": "2n4yQgMy-d3O",
        "outputId": "3da29e41-d151-4c82-f18c-6e34cd9a06a3"
      },
      "source": [
        "signals = pd.read_csv('signals.csv', names = ['Date', 'Buy', 'xyz', 'Company', 'Target', 'StopLoss'])\n",
        "signals.drop('xyz', axis = 1, inplace = True)\n",
        "signals = signals.sort_values(by = 'Date')\n",
        "signals"
      ],
      "execution_count": null,
      "outputs": [
        {
          "output_type": "execute_result",
          "data": {
            "text/html": [
              "<div>\n",
              "<style scoped>\n",
              "    .dataframe tbody tr th:only-of-type {\n",
              "        vertical-align: middle;\n",
              "    }\n",
              "\n",
              "    .dataframe tbody tr th {\n",
              "        vertical-align: top;\n",
              "    }\n",
              "\n",
              "    .dataframe thead th {\n",
              "        text-align: right;\n",
              "    }\n",
              "</style>\n",
              "<table border=\"1\" class=\"dataframe\">\n",
              "  <thead>\n",
              "    <tr style=\"text-align: right;\">\n",
              "      <th></th>\n",
              "      <th>Date</th>\n",
              "      <th>Buy</th>\n",
              "      <th>Company</th>\n",
              "      <th>Target</th>\n",
              "      <th>StopLoss</th>\n",
              "    </tr>\n",
              "  </thead>\n",
              "  <tbody>\n",
              "    <tr>\n",
              "      <th>30</th>\n",
              "      <td>2021-06-24</td>\n",
              "      <td>82198.000000</td>\n",
              "      <td>MRF.NS</td>\n",
              "      <td>87182.736719</td>\n",
              "      <td>77213.263281</td>\n",
              "    </tr>\n",
              "    <tr>\n",
              "      <th>20</th>\n",
              "      <td>2021-06-24</td>\n",
              "      <td>1545.000000</td>\n",
              "      <td>ICICIGI.NS</td>\n",
              "      <td>1667.302460</td>\n",
              "      <td>1422.697540</td>\n",
              "    </tr>\n",
              "    <tr>\n",
              "      <th>42</th>\n",
              "      <td>2021-06-25</td>\n",
              "      <td>678.000000</td>\n",
              "      <td>MCDOWELL-N.NS</td>\n",
              "      <td>733.845026</td>\n",
              "      <td>622.154974</td>\n",
              "    </tr>\n",
              "    <tr>\n",
              "      <th>9</th>\n",
              "      <td>2021-06-25</td>\n",
              "      <td>813.000000</td>\n",
              "      <td>BERGEPAINT.NS</td>\n",
              "      <td>860.887518</td>\n",
              "      <td>765.112482</td>\n",
              "    </tr>\n",
              "    <tr>\n",
              "      <th>21</th>\n",
              "      <td>2021-06-28</td>\n",
              "      <td>620.000000</td>\n",
              "      <td>ICICIPRULI.NS</td>\n",
              "      <td>667.550009</td>\n",
              "      <td>572.449991</td>\n",
              "    </tr>\n",
              "    <tr>\n",
              "      <th>27</th>\n",
              "      <td>2021-06-28</td>\n",
              "      <td>1158.099976</td>\n",
              "      <td>LUPIN.NS</td>\n",
              "      <td>1237.014990</td>\n",
              "      <td>1079.184961</td>\n",
              "    </tr>\n",
              "    <tr>\n",
              "      <th>31</th>\n",
              "      <td>2021-06-28</td>\n",
              "      <td>1490.050049</td>\n",
              "      <td>MUTHOOTFIN.NS</td>\n",
              "      <td>1640.365045</td>\n",
              "      <td>1339.735052</td>\n",
              "    </tr>\n",
              "    <tr>\n",
              "      <th>32</th>\n",
              "      <td>2021-06-28</td>\n",
              "      <td>179.300003</td>\n",
              "      <td>NMDC.NS</td>\n",
              "      <td>199.947502</td>\n",
              "      <td>158.652504</td>\n",
              "    </tr>\n",
              "    <tr>\n",
              "      <th>18</th>\n",
              "      <td>2021-06-28</td>\n",
              "      <td>300.500000</td>\n",
              "      <td>HINDPETRO.NS</td>\n",
              "      <td>324.117502</td>\n",
              "      <td>276.882498</td>\n",
              "    </tr>\n",
              "    <tr>\n",
              "      <th>36</th>\n",
              "      <td>2021-06-28</td>\n",
              "      <td>2425.100098</td>\n",
              "      <td>PEL.NS</td>\n",
              "      <td>2726.997583</td>\n",
              "      <td>2123.202612</td>\n",
              "    </tr>\n",
              "    <tr>\n",
              "      <th>16</th>\n",
              "      <td>2021-06-28</td>\n",
              "      <td>1001.000000</td>\n",
              "      <td>HAVELLS.NS</td>\n",
              "      <td>1068.852460</td>\n",
              "      <td>933.147540</td>\n",
              "    </tr>\n",
              "    <tr>\n",
              "      <th>15</th>\n",
              "      <td>2021-06-28</td>\n",
              "      <td>154.600006</td>\n",
              "      <td>GAIL.NS</td>\n",
              "      <td>170.822503</td>\n",
              "      <td>138.377509</td>\n",
              "    </tr>\n",
              "    <tr>\n",
              "      <th>14</th>\n",
              "      <td>2021-06-28</td>\n",
              "      <td>294.500000</td>\n",
              "      <td>DLF.NS</td>\n",
              "      <td>327.927501</td>\n",
              "      <td>261.072499</td>\n",
              "    </tr>\n",
              "    <tr>\n",
              "      <th>38</th>\n",
              "      <td>2021-06-28</td>\n",
              "      <td>42.950001</td>\n",
              "      <td>PNB.NS</td>\n",
              "      <td>48.117501</td>\n",
              "      <td>37.782501</td>\n",
              "    </tr>\n",
              "    <tr>\n",
              "      <th>8</th>\n",
              "      <td>2021-06-28</td>\n",
              "      <td>3680.000000</td>\n",
              "      <td>BAJAJHLDNG.NS</td>\n",
              "      <td>3870.379993</td>\n",
              "      <td>3489.620007</td>\n",
              "    </tr>\n",
              "    <tr>\n",
              "      <th>10</th>\n",
              "      <td>2021-06-28</td>\n",
              "      <td>398.350006</td>\n",
              "      <td>BIOCON.NS</td>\n",
              "      <td>424.262515</td>\n",
              "      <td>372.437497</td>\n",
              "    </tr>\n",
              "    <tr>\n",
              "      <th>29</th>\n",
              "      <td>2021-06-28</td>\n",
              "      <td>237.500000</td>\n",
              "      <td>MOTHERSUMI.NS</td>\n",
              "      <td>265.632500</td>\n",
              "      <td>209.367500</td>\n",
              "    </tr>\n",
              "    <tr>\n",
              "      <th>11</th>\n",
              "      <td>2021-06-28</td>\n",
              "      <td>631.950012</td>\n",
              "      <td>CADILAHC.NS</td>\n",
              "      <td>680.947552</td>\n",
              "      <td>582.952472</td>\n",
              "    </tr>\n",
              "    <tr>\n",
              "      <th>7</th>\n",
              "      <td>2021-06-29</td>\n",
              "      <td>3338.000000</td>\n",
              "      <td>DMART.NS</td>\n",
              "      <td>3576.440015</td>\n",
              "      <td>3099.559985</td>\n",
              "    </tr>\n",
              "    <tr>\n",
              "      <th>34</th>\n",
              "      <td>2021-06-29</td>\n",
              "      <td>2156.000000</td>\n",
              "      <td>PIDILITIND.NS</td>\n",
              "      <td>2268.882397</td>\n",
              "      <td>2043.117603</td>\n",
              "    </tr>\n",
              "    <tr>\n",
              "      <th>39</th>\n",
              "      <td>2021-06-30</td>\n",
              "      <td>978.450012</td>\n",
              "      <td>SBICARD.NS</td>\n",
              "      <td>1061.610016</td>\n",
              "      <td>895.290009</td>\n",
              "    </tr>\n",
              "    <tr>\n",
              "      <th>2</th>\n",
              "      <td>2021-06-30</td>\n",
              "      <td>1120.000000</td>\n",
              "      <td>ADANIGREEN.NS</td>\n",
              "      <td>1283.297495</td>\n",
              "      <td>956.702505</td>\n",
              "    </tr>\n",
              "    <tr>\n",
              "      <th>26</th>\n",
              "      <td>2021-06-30</td>\n",
              "      <td>4119.000000</td>\n",
              "      <td>LTI.NS</td>\n",
              "      <td>4452.817639</td>\n",
              "      <td>3785.182361</td>\n",
              "    </tr>\n",
              "    <tr>\n",
              "      <th>12</th>\n",
              "      <td>2021-07-01</td>\n",
              "      <td>1702.000000</td>\n",
              "      <td>COLPAL.NS</td>\n",
              "      <td>1787.004956</td>\n",
              "      <td>1616.995044</td>\n",
              "    </tr>\n",
              "    <tr>\n",
              "      <th>37</th>\n",
              "      <td>2021-07-01</td>\n",
              "      <td>13388.000000</td>\n",
              "      <td>PGHH.NS</td>\n",
              "      <td>14361.927148</td>\n",
              "      <td>12414.072852</td>\n",
              "    </tr>\n",
              "    <tr>\n",
              "      <th>28</th>\n",
              "      <td>2021-07-02</td>\n",
              "      <td>534.900024</td>\n",
              "      <td>MARICO.NS</td>\n",
              "      <td>569.347519</td>\n",
              "      <td>500.452530</td>\n",
              "    </tr>\n",
              "    <tr>\n",
              "      <th>6</th>\n",
              "      <td>2021-07-02</td>\n",
              "      <td>979.750000</td>\n",
              "      <td>AUROPHARMA.NS</td>\n",
              "      <td>1054.517511</td>\n",
              "      <td>904.982489</td>\n",
              "    </tr>\n",
              "    <tr>\n",
              "      <th>4</th>\n",
              "      <td>2021-07-02</td>\n",
              "      <td>3211.899902</td>\n",
              "      <td>ALKEM.NS</td>\n",
              "      <td>3459.444873</td>\n",
              "      <td>2964.354932</td>\n",
              "    </tr>\n",
              "    <tr>\n",
              "      <th>25</th>\n",
              "      <td>2021-07-02</td>\n",
              "      <td>3125.000000</td>\n",
              "      <td>JUBLFOOD.NS</td>\n",
              "      <td>3360.034875</td>\n",
              "      <td>2889.965125</td>\n",
              "    </tr>\n",
              "    <tr>\n",
              "      <th>40</th>\n",
              "      <td>2021-07-02</td>\n",
              "      <td>2935.000000</td>\n",
              "      <td>TORNTPHARM.NS</td>\n",
              "      <td>3149.635022</td>\n",
              "      <td>2720.364978</td>\n",
              "    </tr>\n",
              "    <tr>\n",
              "      <th>0</th>\n",
              "      <td>2021-07-05</td>\n",
              "      <td>16870.000000</td>\n",
              "      <td>ABBOTINDIA.NS</td>\n",
              "      <td>17815.509912</td>\n",
              "      <td>15924.490088</td>\n",
              "    </tr>\n",
              "    <tr>\n",
              "      <th>22</th>\n",
              "      <td>2021-07-06</td>\n",
              "      <td>566.900024</td>\n",
              "      <td>IGL.NS</td>\n",
              "      <td>610.392503</td>\n",
              "      <td>523.407545</td>\n",
              "    </tr>\n",
              "    <tr>\n",
              "      <th>33</th>\n",
              "      <td>2021-07-07</td>\n",
              "      <td>224.300003</td>\n",
              "      <td>PETRONET.NS</td>\n",
              "      <td>237.080000</td>\n",
              "      <td>211.520006</td>\n",
              "    </tr>\n",
              "    <tr>\n",
              "      <th>17</th>\n",
              "      <td>2021-07-07</td>\n",
              "      <td>2898.000000</td>\n",
              "      <td>HDFCAMC.NS</td>\n",
              "      <td>3080.009985</td>\n",
              "      <td>2715.990015</td>\n",
              "    </tr>\n",
              "    <tr>\n",
              "      <th>13</th>\n",
              "      <td>2021-07-07</td>\n",
              "      <td>590.799988</td>\n",
              "      <td>DABUR.NS</td>\n",
              "      <td>620.200015</td>\n",
              "      <td>561.399960</td>\n",
              "    </tr>\n",
              "    <tr>\n",
              "      <th>1</th>\n",
              "      <td>2021-07-07</td>\n",
              "      <td>1420.000000</td>\n",
              "      <td>ADANIENT.NS</td>\n",
              "      <td>1685.762445</td>\n",
              "      <td>1154.237555</td>\n",
              "    </tr>\n",
              "    <tr>\n",
              "      <th>23</th>\n",
              "      <td>2021-07-08</td>\n",
              "      <td>235.949997</td>\n",
              "      <td>INDUSTOWER.NS</td>\n",
              "      <td>253.409991</td>\n",
              "      <td>218.490002</td>\n",
              "    </tr>\n",
              "    <tr>\n",
              "      <th>35</th>\n",
              "      <td>2021-07-08</td>\n",
              "      <td>NaN</td>\n",
              "      <td>PIDILITIND.NS</td>\n",
              "      <td>NaN</td>\n",
              "      <td>NaN</td>\n",
              "    </tr>\n",
              "    <tr>\n",
              "      <th>5</th>\n",
              "      <td>2021-07-08</td>\n",
              "      <td>3700.000000</td>\n",
              "      <td>APOLLOHOSP.NS</td>\n",
              "      <td>3957.834912</td>\n",
              "      <td>3442.165088</td>\n",
              "    </tr>\n",
              "    <tr>\n",
              "      <th>43</th>\n",
              "      <td>2021-07-08</td>\n",
              "      <td>271.850006</td>\n",
              "      <td>VEDL.NS</td>\n",
              "      <td>296.690021</td>\n",
              "      <td>247.009991</td>\n",
              "    </tr>\n",
              "    <tr>\n",
              "      <th>3</th>\n",
              "      <td>2021-07-09</td>\n",
              "      <td>1000.000000</td>\n",
              "      <td>ADANITRANS.NS</td>\n",
              "      <td>1146.159995</td>\n",
              "      <td>853.840005</td>\n",
              "    </tr>\n",
              "    <tr>\n",
              "      <th>41</th>\n",
              "      <td>2021-07-12</td>\n",
              "      <td>1432.000000</td>\n",
              "      <td>UBL.NS</td>\n",
              "      <td>1554.879993</td>\n",
              "      <td>1309.120007</td>\n",
              "    </tr>\n",
              "    <tr>\n",
              "      <th>24</th>\n",
              "      <td>2021-07-12</td>\n",
              "      <td>5431.899902</td>\n",
              "      <td>NAUKRI.NS</td>\n",
              "      <td>5924.642505</td>\n",
              "      <td>4939.157300</td>\n",
              "    </tr>\n",
              "    <tr>\n",
              "      <th>19</th>\n",
              "      <td>2021-07-13</td>\n",
              "      <td>NaN</td>\n",
              "      <td>HINDPETRO.NS</td>\n",
              "      <td>NaN</td>\n",
              "      <td>NaN</td>\n",
              "    </tr>\n",
              "  </tbody>\n",
              "</table>\n",
              "</div>"
            ],
            "text/plain": [
              "          Date           Buy        Company        Target      StopLoss\n",
              "30  2021-06-24  82198.000000         MRF.NS  87182.736719  77213.263281\n",
              "20  2021-06-24   1545.000000     ICICIGI.NS   1667.302460   1422.697540\n",
              "42  2021-06-25    678.000000  MCDOWELL-N.NS    733.845026    622.154974\n",
              "9   2021-06-25    813.000000  BERGEPAINT.NS    860.887518    765.112482\n",
              "21  2021-06-28    620.000000  ICICIPRULI.NS    667.550009    572.449991\n",
              "27  2021-06-28   1158.099976       LUPIN.NS   1237.014990   1079.184961\n",
              "31  2021-06-28   1490.050049  MUTHOOTFIN.NS   1640.365045   1339.735052\n",
              "32  2021-06-28    179.300003        NMDC.NS    199.947502    158.652504\n",
              "18  2021-06-28    300.500000   HINDPETRO.NS    324.117502    276.882498\n",
              "36  2021-06-28   2425.100098         PEL.NS   2726.997583   2123.202612\n",
              "16  2021-06-28   1001.000000     HAVELLS.NS   1068.852460    933.147540\n",
              "15  2021-06-28    154.600006        GAIL.NS    170.822503    138.377509\n",
              "14  2021-06-28    294.500000         DLF.NS    327.927501    261.072499\n",
              "38  2021-06-28     42.950001         PNB.NS     48.117501     37.782501\n",
              "8   2021-06-28   3680.000000  BAJAJHLDNG.NS   3870.379993   3489.620007\n",
              "10  2021-06-28    398.350006      BIOCON.NS    424.262515    372.437497\n",
              "29  2021-06-28    237.500000  MOTHERSUMI.NS    265.632500    209.367500\n",
              "11  2021-06-28    631.950012    CADILAHC.NS    680.947552    582.952472\n",
              "7   2021-06-29   3338.000000       DMART.NS   3576.440015   3099.559985\n",
              "34  2021-06-29   2156.000000  PIDILITIND.NS   2268.882397   2043.117603\n",
              "39  2021-06-30    978.450012     SBICARD.NS   1061.610016    895.290009\n",
              "2   2021-06-30   1120.000000  ADANIGREEN.NS   1283.297495    956.702505\n",
              "26  2021-06-30   4119.000000         LTI.NS   4452.817639   3785.182361\n",
              "12  2021-07-01   1702.000000      COLPAL.NS   1787.004956   1616.995044\n",
              "37  2021-07-01  13388.000000        PGHH.NS  14361.927148  12414.072852\n",
              "28  2021-07-02    534.900024      MARICO.NS    569.347519    500.452530\n",
              "6   2021-07-02    979.750000  AUROPHARMA.NS   1054.517511    904.982489\n",
              "4   2021-07-02   3211.899902       ALKEM.NS   3459.444873   2964.354932\n",
              "25  2021-07-02   3125.000000    JUBLFOOD.NS   3360.034875   2889.965125\n",
              "40  2021-07-02   2935.000000  TORNTPHARM.NS   3149.635022   2720.364978\n",
              "0   2021-07-05  16870.000000  ABBOTINDIA.NS  17815.509912  15924.490088\n",
              "22  2021-07-06    566.900024         IGL.NS    610.392503    523.407545\n",
              "33  2021-07-07    224.300003    PETRONET.NS    237.080000    211.520006\n",
              "17  2021-07-07   2898.000000     HDFCAMC.NS   3080.009985   2715.990015\n",
              "13  2021-07-07    590.799988       DABUR.NS    620.200015    561.399960\n",
              "1   2021-07-07   1420.000000    ADANIENT.NS   1685.762445   1154.237555\n",
              "23  2021-07-08    235.949997  INDUSTOWER.NS    253.409991    218.490002\n",
              "35  2021-07-08           NaN  PIDILITIND.NS           NaN           NaN\n",
              "5   2021-07-08   3700.000000  APOLLOHOSP.NS   3957.834912   3442.165088\n",
              "43  2021-07-08    271.850006        VEDL.NS    296.690021    247.009991\n",
              "3   2021-07-09   1000.000000  ADANITRANS.NS   1146.159995    853.840005\n",
              "41  2021-07-12   1432.000000         UBL.NS   1554.879993   1309.120007\n",
              "24  2021-07-12   5431.899902      NAUKRI.NS   5924.642505   4939.157300\n",
              "19  2021-07-13           NaN   HINDPETRO.NS           NaN           NaN"
            ]
          },
          "metadata": {
            "tags": []
          },
          "execution_count": 8
        }
      ]
    }
  ]
}